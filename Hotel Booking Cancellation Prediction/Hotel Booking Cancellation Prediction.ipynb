{
 "cells": [
  {
   "cell_type": "markdown",
   "metadata": {},
   "source": [
    "# <center>Hotel Booking Cancellation Prediction</center>"
   ]
  },
  {
   "cell_type": "markdown",
   "metadata": {},
   "source": [
    "## Objective\n",
    "\n",
    "\n",
    "<b>The objective of this project is to use Data Science and Machine Learning to devise a strategy to handle the hotel booking cancellation to reduce the loss in revenue. Hotel guest data and booking behaviour patterns are leveraged to create the model.</b>"
   ]
  },
  {
   "cell_type": "markdown",
   "metadata": {},
   "source": [
    "## Importing the python libraries"
   ]
  },
  {
   "cell_type": "code",
   "execution_count": 1,
   "metadata": {},
   "outputs": [],
   "source": [
    "# importing the python libraries\n",
    "import numpy as np\n",
    "import pandas as pd\n",
    "import matplotlib.pyplot as plt\n",
    "import seaborn as sns\n",
    "\n",
    "# missing value imputation\n",
    "from sklearn.impute import SimpleImputer\n",
    "\n",
    "# feature discretization\n",
    "from sklearn.preprocessing import KBinsDiscretizer\n",
    "\n",
    "# Feature Selection\n",
    "\n",
    "# removal of zero variance features\n",
    "from sklearn.feature_selection import VarianceThreshold\n",
    "from sklearn.feature_selection import SelectKBest,chi2\n",
    "\n",
    "# Model Development\n",
    "from sklearn.model_selection import train_test_split\n",
    "from sklearn.model_selection import GridSearchCV\n",
    "from sklearn.tree import DecisionTreeClassifier\n",
    "from sklearn.ensemble import RandomForestClassifier\n",
    "from sklearn.ensemble import GradientBoostingClassifier\n",
    "\n",
    "# Model Evaluation\n",
    "from sklearn import metrics\n",
    "from sklearn.metrics import confusion_matrix\n",
    "\n",
    "# suppressing warnings\n",
    "import warnings\n",
    "warnings.filterwarnings(\"ignore\")"
   ]
  },
  {
   "cell_type": "markdown",
   "metadata": {},
   "source": [
    "## Importing the Dataset"
   ]
  },
  {
   "cell_type": "code",
   "execution_count": 2,
   "metadata": {},
   "outputs": [],
   "source": [
    "df = pd.read_csv(\"hotel_bookings.csv\")"
   ]
  },
  {
   "cell_type": "markdown",
   "metadata": {},
   "source": [
    "## Exploratory Data Analysis and Preprocessing"
   ]
  },
  {
   "cell_type": "code",
   "execution_count": 3,
   "metadata": {},
   "outputs": [
    {
     "data": {
      "text/html": [
       "<div>\n",
       "<style scoped>\n",
       "    .dataframe tbody tr th:only-of-type {\n",
       "        vertical-align: middle;\n",
       "    }\n",
       "\n",
       "    .dataframe tbody tr th {\n",
       "        vertical-align: top;\n",
       "    }\n",
       "\n",
       "    .dataframe thead th {\n",
       "        text-align: right;\n",
       "    }\n",
       "</style>\n",
       "<table border=\"1\" class=\"dataframe\">\n",
       "  <thead>\n",
       "    <tr style=\"text-align: right;\">\n",
       "      <th></th>\n",
       "      <th>hotel</th>\n",
       "      <th>is_canceled</th>\n",
       "      <th>lead_time</th>\n",
       "      <th>arrival_month_year</th>\n",
       "      <th>arrival_date_year</th>\n",
       "      <th>arrival_date_month</th>\n",
       "      <th>arrival_date_week_number</th>\n",
       "      <th>arrival_date_day_of_month</th>\n",
       "      <th>stays_in_weekend_nights</th>\n",
       "      <th>stays_in_week_nights</th>\n",
       "      <th>...</th>\n",
       "      <th>deposit_type</th>\n",
       "      <th>agent</th>\n",
       "      <th>company</th>\n",
       "      <th>days_in_waiting_list</th>\n",
       "      <th>customer_type</th>\n",
       "      <th>adr</th>\n",
       "      <th>required_car_parking_spaces</th>\n",
       "      <th>total_of_special_requests</th>\n",
       "      <th>reservation_status</th>\n",
       "      <th>reservation_status_date</th>\n",
       "    </tr>\n",
       "  </thead>\n",
       "  <tbody>\n",
       "    <tr>\n",
       "      <th>0</th>\n",
       "      <td>Resort Hotel</td>\n",
       "      <td>0</td>\n",
       "      <td>342</td>\n",
       "      <td>July 2015</td>\n",
       "      <td>2015</td>\n",
       "      <td>July</td>\n",
       "      <td>27</td>\n",
       "      <td>1</td>\n",
       "      <td>0</td>\n",
       "      <td>0</td>\n",
       "      <td>...</td>\n",
       "      <td>No Deposit</td>\n",
       "      <td>NaN</td>\n",
       "      <td>NaN</td>\n",
       "      <td>0</td>\n",
       "      <td>Transient</td>\n",
       "      <td>0.0</td>\n",
       "      <td>0</td>\n",
       "      <td>0</td>\n",
       "      <td>Check-Out</td>\n",
       "      <td>01-07-2015</td>\n",
       "    </tr>\n",
       "    <tr>\n",
       "      <th>1</th>\n",
       "      <td>Resort Hotel</td>\n",
       "      <td>0</td>\n",
       "      <td>737</td>\n",
       "      <td>July 2015</td>\n",
       "      <td>2015</td>\n",
       "      <td>July</td>\n",
       "      <td>27</td>\n",
       "      <td>1</td>\n",
       "      <td>0</td>\n",
       "      <td>0</td>\n",
       "      <td>...</td>\n",
       "      <td>No Deposit</td>\n",
       "      <td>NaN</td>\n",
       "      <td>NaN</td>\n",
       "      <td>0</td>\n",
       "      <td>Transient</td>\n",
       "      <td>0.0</td>\n",
       "      <td>0</td>\n",
       "      <td>0</td>\n",
       "      <td>Check-Out</td>\n",
       "      <td>01-07-2015</td>\n",
       "    </tr>\n",
       "    <tr>\n",
       "      <th>2</th>\n",
       "      <td>Resort Hotel</td>\n",
       "      <td>0</td>\n",
       "      <td>7</td>\n",
       "      <td>July 2015</td>\n",
       "      <td>2015</td>\n",
       "      <td>July</td>\n",
       "      <td>27</td>\n",
       "      <td>1</td>\n",
       "      <td>0</td>\n",
       "      <td>1</td>\n",
       "      <td>...</td>\n",
       "      <td>No Deposit</td>\n",
       "      <td>NaN</td>\n",
       "      <td>NaN</td>\n",
       "      <td>0</td>\n",
       "      <td>Transient</td>\n",
       "      <td>75.0</td>\n",
       "      <td>0</td>\n",
       "      <td>0</td>\n",
       "      <td>Check-Out</td>\n",
       "      <td>02-07-2015</td>\n",
       "    </tr>\n",
       "    <tr>\n",
       "      <th>3</th>\n",
       "      <td>Resort Hotel</td>\n",
       "      <td>0</td>\n",
       "      <td>13</td>\n",
       "      <td>July 2015</td>\n",
       "      <td>2015</td>\n",
       "      <td>July</td>\n",
       "      <td>27</td>\n",
       "      <td>1</td>\n",
       "      <td>0</td>\n",
       "      <td>1</td>\n",
       "      <td>...</td>\n",
       "      <td>No Deposit</td>\n",
       "      <td>304.0</td>\n",
       "      <td>NaN</td>\n",
       "      <td>0</td>\n",
       "      <td>Transient</td>\n",
       "      <td>75.0</td>\n",
       "      <td>0</td>\n",
       "      <td>0</td>\n",
       "      <td>Check-Out</td>\n",
       "      <td>02-07-2015</td>\n",
       "    </tr>\n",
       "    <tr>\n",
       "      <th>4</th>\n",
       "      <td>Resort Hotel</td>\n",
       "      <td>0</td>\n",
       "      <td>14</td>\n",
       "      <td>July 2015</td>\n",
       "      <td>2015</td>\n",
       "      <td>July</td>\n",
       "      <td>27</td>\n",
       "      <td>1</td>\n",
       "      <td>0</td>\n",
       "      <td>2</td>\n",
       "      <td>...</td>\n",
       "      <td>No Deposit</td>\n",
       "      <td>240.0</td>\n",
       "      <td>NaN</td>\n",
       "      <td>0</td>\n",
       "      <td>Transient</td>\n",
       "      <td>98.0</td>\n",
       "      <td>0</td>\n",
       "      <td>1</td>\n",
       "      <td>Check-Out</td>\n",
       "      <td>03-07-2015</td>\n",
       "    </tr>\n",
       "  </tbody>\n",
       "</table>\n",
       "<p>5 rows × 33 columns</p>\n",
       "</div>"
      ],
      "text/plain": [
       "          hotel  is_canceled  lead_time arrival_month_year  arrival_date_year  \\\n",
       "0  Resort Hotel            0        342          July 2015               2015   \n",
       "1  Resort Hotel            0        737          July 2015               2015   \n",
       "2  Resort Hotel            0          7          July 2015               2015   \n",
       "3  Resort Hotel            0         13          July 2015               2015   \n",
       "4  Resort Hotel            0         14          July 2015               2015   \n",
       "\n",
       "  arrival_date_month  arrival_date_week_number  arrival_date_day_of_month  \\\n",
       "0               July                        27                          1   \n",
       "1               July                        27                          1   \n",
       "2               July                        27                          1   \n",
       "3               July                        27                          1   \n",
       "4               July                        27                          1   \n",
       "\n",
       "   stays_in_weekend_nights  stays_in_week_nights  ...  deposit_type  agent  \\\n",
       "0                        0                     0  ...    No Deposit    NaN   \n",
       "1                        0                     0  ...    No Deposit    NaN   \n",
       "2                        0                     1  ...    No Deposit    NaN   \n",
       "3                        0                     1  ...    No Deposit  304.0   \n",
       "4                        0                     2  ...    No Deposit  240.0   \n",
       "\n",
       "   company days_in_waiting_list customer_type   adr  \\\n",
       "0      NaN                    0     Transient   0.0   \n",
       "1      NaN                    0     Transient   0.0   \n",
       "2      NaN                    0     Transient  75.0   \n",
       "3      NaN                    0     Transient  75.0   \n",
       "4      NaN                    0     Transient  98.0   \n",
       "\n",
       "  required_car_parking_spaces  total_of_special_requests  reservation_status  \\\n",
       "0                           0                          0           Check-Out   \n",
       "1                           0                          0           Check-Out   \n",
       "2                           0                          0           Check-Out   \n",
       "3                           0                          0           Check-Out   \n",
       "4                           0                          1           Check-Out   \n",
       "\n",
       "   reservation_status_date  \n",
       "0               01-07-2015  \n",
       "1               01-07-2015  \n",
       "2               02-07-2015  \n",
       "3               02-07-2015  \n",
       "4               03-07-2015  \n",
       "\n",
       "[5 rows x 33 columns]"
      ]
     },
     "execution_count": 3,
     "metadata": {},
     "output_type": "execute_result"
    }
   ],
   "source": [
    "# dispalying the first 5 rows of data\n",
    "df.head()"
   ]
  },
  {
   "cell_type": "code",
   "execution_count": 4,
   "metadata": {},
   "outputs": [
    {
     "data": {
      "text/plain": [
       "(119390, 33)"
      ]
     },
     "execution_count": 4,
     "metadata": {},
     "output_type": "execute_result"
    }
   ],
   "source": [
    "df.shape"
   ]
  },
  {
   "cell_type": "markdown",
   "metadata": {},
   "source": [
    "There are close to 120,000 observations and 33 features in the given dataset"
   ]
  },
  {
   "cell_type": "code",
   "execution_count": 5,
   "metadata": {},
   "outputs": [
    {
     "data": {
      "text/plain": [
       "hotel                              object\n",
       "is_canceled                         int64\n",
       "lead_time                           int64\n",
       "arrival_month_year                 object\n",
       "arrival_date_year                   int64\n",
       "arrival_date_month                 object\n",
       "arrival_date_week_number            int64\n",
       "arrival_date_day_of_month           int64\n",
       "stays_in_weekend_nights             int64\n",
       "stays_in_week_nights                int64\n",
       "adults                              int64\n",
       "children                          float64\n",
       "babies                              int64\n",
       "meal                               object\n",
       "country                            object\n",
       "market_segment                     object\n",
       "distribution_channel               object\n",
       "is_repeated_guest                   int64\n",
       "previous_cancellations              int64\n",
       "previous_bookings_not_canceled      int64\n",
       "reserved_room_type                 object\n",
       "assigned_room_type                 object\n",
       "booking_changes                     int64\n",
       "deposit_type                       object\n",
       "agent                             float64\n",
       "company                           float64\n",
       "days_in_waiting_list                int64\n",
       "customer_type                      object\n",
       "adr                               float64\n",
       "required_car_parking_spaces         int64\n",
       "total_of_special_requests           int64\n",
       "reservation_status                 object\n",
       "reservation_status_date            object\n",
       "dtype: object"
      ]
     },
     "execution_count": 5,
     "metadata": {},
     "output_type": "execute_result"
    }
   ],
   "source": [
    "# checking the data types\n",
    "df.dtypes"
   ]
  },
  {
   "cell_type": "markdown",
   "metadata": {},
   "source": [
    "The given dataset has numeric and categorical columns"
   ]
  },
  {
   "cell_type": "markdown",
   "metadata": {},
   "source": [
    "### Setting the display option to ensure feature visibility"
   ]
  },
  {
   "cell_type": "code",
   "execution_count": 6,
   "metadata": {},
   "outputs": [],
   "source": [
    "pd.set_option('display.max_columns',None)"
   ]
  },
  {
   "cell_type": "markdown",
   "metadata": {},
   "source": [
    "### Defining the Target and Independent Variables"
   ]
  },
  {
   "cell_type": "code",
   "execution_count": 7,
   "metadata": {},
   "outputs": [],
   "source": [
    "# The target variable is 'is_canceled'\n",
    "Y = df[['is_canceled']]\n",
    "\n",
    "#  independent variables\n",
    "X = df.drop(['is_canceled'],axis=1)"
   ]
  },
  {
   "cell_type": "markdown",
   "metadata": {},
   "source": [
    "### Get the cancellation rate"
   ]
  },
  {
   "cell_type": "code",
   "execution_count": 8,
   "metadata": {},
   "outputs": [
    {
     "data": {
      "text/plain": [
       "is_canceled    0.370416\n",
       "dtype: float64"
      ]
     },
     "execution_count": 8,
     "metadata": {},
     "output_type": "execute_result"
    }
   ],
   "source": [
    "Y.mean()"
   ]
  },
  {
   "cell_type": "markdown",
   "metadata": {},
   "source": [
    "### Splitting features into Numerical and Categorical columns"
   ]
  },
  {
   "cell_type": "code",
   "execution_count": 9,
   "metadata": {},
   "outputs": [],
   "source": [
    "# numerical features\n",
    "num = X.select_dtypes(include = 'number')\n",
    "\n",
    "# getting the object type columns\n",
    "char = X.select_dtypes(include = 'object')"
   ]
  },
  {
   "cell_type": "code",
   "execution_count": 10,
   "metadata": {},
   "outputs": [],
   "source": [
    "def unique_levels(x):\n",
    "    '''\n",
    "    This method returns the count of unique values present in the dataset for the column x\n",
    "    Parameter: x - column name\n",
    "    Returns: Count of unique values for column x\n",
    "    '''\n",
    "    x = x.value_counts().count()\n",
    "    return x"
   ]
  },
  {
   "cell_type": "code",
   "execution_count": 11,
   "metadata": {},
   "outputs": [
    {
     "data": {
      "text/html": [
       "<div>\n",
       "<style scoped>\n",
       "    .dataframe tbody tr th:only-of-type {\n",
       "        vertical-align: middle;\n",
       "    }\n",
       "\n",
       "    .dataframe tbody tr th {\n",
       "        vertical-align: top;\n",
       "    }\n",
       "\n",
       "    .dataframe thead th {\n",
       "        text-align: right;\n",
       "    }\n",
       "</style>\n",
       "<table border=\"1\" class=\"dataframe\">\n",
       "  <thead>\n",
       "    <tr style=\"text-align: right;\">\n",
       "      <th></th>\n",
       "      <th>0</th>\n",
       "    </tr>\n",
       "  </thead>\n",
       "  <tbody>\n",
       "    <tr>\n",
       "      <th>lead_time</th>\n",
       "      <td>479</td>\n",
       "    </tr>\n",
       "    <tr>\n",
       "      <th>arrival_date_year</th>\n",
       "      <td>3</td>\n",
       "    </tr>\n",
       "    <tr>\n",
       "      <th>arrival_date_week_number</th>\n",
       "      <td>53</td>\n",
       "    </tr>\n",
       "    <tr>\n",
       "      <th>arrival_date_day_of_month</th>\n",
       "      <td>31</td>\n",
       "    </tr>\n",
       "    <tr>\n",
       "      <th>stays_in_weekend_nights</th>\n",
       "      <td>17</td>\n",
       "    </tr>\n",
       "    <tr>\n",
       "      <th>stays_in_week_nights</th>\n",
       "      <td>35</td>\n",
       "    </tr>\n",
       "    <tr>\n",
       "      <th>adults</th>\n",
       "      <td>14</td>\n",
       "    </tr>\n",
       "    <tr>\n",
       "      <th>children</th>\n",
       "      <td>5</td>\n",
       "    </tr>\n",
       "    <tr>\n",
       "      <th>babies</th>\n",
       "      <td>5</td>\n",
       "    </tr>\n",
       "    <tr>\n",
       "      <th>is_repeated_guest</th>\n",
       "      <td>2</td>\n",
       "    </tr>\n",
       "    <tr>\n",
       "      <th>previous_cancellations</th>\n",
       "      <td>15</td>\n",
       "    </tr>\n",
       "    <tr>\n",
       "      <th>previous_bookings_not_canceled</th>\n",
       "      <td>73</td>\n",
       "    </tr>\n",
       "    <tr>\n",
       "      <th>booking_changes</th>\n",
       "      <td>21</td>\n",
       "    </tr>\n",
       "    <tr>\n",
       "      <th>agent</th>\n",
       "      <td>333</td>\n",
       "    </tr>\n",
       "    <tr>\n",
       "      <th>company</th>\n",
       "      <td>352</td>\n",
       "    </tr>\n",
       "    <tr>\n",
       "      <th>days_in_waiting_list</th>\n",
       "      <td>128</td>\n",
       "    </tr>\n",
       "    <tr>\n",
       "      <th>adr</th>\n",
       "      <td>8879</td>\n",
       "    </tr>\n",
       "    <tr>\n",
       "      <th>required_car_parking_spaces</th>\n",
       "      <td>5</td>\n",
       "    </tr>\n",
       "    <tr>\n",
       "      <th>total_of_special_requests</th>\n",
       "      <td>6</td>\n",
       "    </tr>\n",
       "  </tbody>\n",
       "</table>\n",
       "</div>"
      ],
      "text/plain": [
       "                                   0\n",
       "lead_time                        479\n",
       "arrival_date_year                  3\n",
       "arrival_date_week_number          53\n",
       "arrival_date_day_of_month         31\n",
       "stays_in_weekend_nights           17\n",
       "stays_in_week_nights              35\n",
       "adults                            14\n",
       "children                           5\n",
       "babies                             5\n",
       "is_repeated_guest                  2\n",
       "previous_cancellations            15\n",
       "previous_bookings_not_canceled    73\n",
       "booking_changes                   21\n",
       "agent                            333\n",
       "company                          352\n",
       "days_in_waiting_list             128\n",
       "adr                             8879\n",
       "required_car_parking_spaces        5\n",
       "total_of_special_requests          6"
      ]
     },
     "execution_count": 11,
     "metadata": {},
     "output_type": "execute_result"
    }
   ],
   "source": [
    "# finding the count of unique values for each numerical column\n",
    "df_value_counts = pd.DataFrame(num.apply(lambda x: unique_levels(x)))\n",
    "df_value_counts"
   ]
  },
  {
   "cell_type": "code",
   "execution_count": 12,
   "metadata": {},
   "outputs": [
    {
     "data": {
      "text/html": [
       "<div>\n",
       "<style scoped>\n",
       "    .dataframe tbody tr th:only-of-type {\n",
       "        vertical-align: middle;\n",
       "    }\n",
       "\n",
       "    .dataframe tbody tr th {\n",
       "        vertical-align: top;\n",
       "    }\n",
       "\n",
       "    .dataframe thead th {\n",
       "        text-align: right;\n",
       "    }\n",
       "</style>\n",
       "<table border=\"1\" class=\"dataframe\">\n",
       "  <thead>\n",
       "    <tr style=\"text-align: right;\">\n",
       "      <th></th>\n",
       "      <th>feature_levels</th>\n",
       "    </tr>\n",
       "  </thead>\n",
       "  <tbody>\n",
       "    <tr>\n",
       "      <th>lead_time</th>\n",
       "      <td>479</td>\n",
       "    </tr>\n",
       "    <tr>\n",
       "      <th>arrival_date_year</th>\n",
       "      <td>3</td>\n",
       "    </tr>\n",
       "    <tr>\n",
       "      <th>arrival_date_week_number</th>\n",
       "      <td>53</td>\n",
       "    </tr>\n",
       "    <tr>\n",
       "      <th>arrival_date_day_of_month</th>\n",
       "      <td>31</td>\n",
       "    </tr>\n",
       "    <tr>\n",
       "      <th>stays_in_weekend_nights</th>\n",
       "      <td>17</td>\n",
       "    </tr>\n",
       "  </tbody>\n",
       "</table>\n",
       "</div>"
      ],
      "text/plain": [
       "                           feature_levels\n",
       "lead_time                             479\n",
       "arrival_date_year                       3\n",
       "arrival_date_week_number               53\n",
       "arrival_date_day_of_month              31\n",
       "stays_in_weekend_nights                17"
      ]
     },
     "execution_count": 12,
     "metadata": {},
     "output_type": "execute_result"
    }
   ],
   "source": [
    "## renaming the column name of df_value_counts\n",
    "df_value_counts.columns = ['feature_levels']\n",
    "df_value_counts.head()"
   ]
  },
  {
   "cell_type": "code",
   "execution_count": 13,
   "metadata": {},
   "outputs": [],
   "source": [
    "# identifying all numerical values having less than 20 unique levels\n",
    "slice1 = df_value_counts.loc[df_value_counts['feature_levels']<=20]\n",
    "# get the index of the columns with levels <= 20\n",
    "cat_list = slice1.index\n",
    "#separating all numerical values having less than 20 unique levels\n",
    "cat = num.loc[:,cat_list]\n"
   ]
  },
  {
   "cell_type": "code",
   "execution_count": 14,
   "metadata": {},
   "outputs": [],
   "source": [
    "# setting the numerical data to hold only those columns having unique levels > 20\n",
    "slice2 = df_value_counts.loc[df_value_counts['feature_levels']>20]\n",
    "# index\n",
    "num_list=slice2.index\n",
    "num=num.loc[:,num_list]"
   ]
  },
  {
   "cell_type": "code",
   "execution_count": 15,
   "metadata": {},
   "outputs": [
    {
     "data": {
      "text/plain": [
       "(119390, 10)"
      ]
     },
     "execution_count": 15,
     "metadata": {},
     "output_type": "execute_result"
    }
   ],
   "source": [
    "num.shape"
   ]
  },
  {
   "cell_type": "code",
   "execution_count": 16,
   "metadata": {},
   "outputs": [
    {
     "data": {
      "text/plain": [
       "lead_time                           int64\n",
       "arrival_date_week_number            int64\n",
       "arrival_date_day_of_month           int64\n",
       "stays_in_week_nights                int64\n",
       "previous_bookings_not_canceled      int64\n",
       "booking_changes                     int64\n",
       "agent                             float64\n",
       "company                           float64\n",
       "days_in_waiting_list                int64\n",
       "adr                               float64\n",
       "dtype: object"
      ]
     },
     "execution_count": 16,
     "metadata": {},
     "output_type": "execute_result"
    }
   ],
   "source": [
    "num.dtypes"
   ]
  },
  {
   "cell_type": "code",
   "execution_count": 17,
   "metadata": {},
   "outputs": [],
   "source": [
    "# Concatencating the numerical data with levels <=20 with the categorical columns\n",
    "char = pd.concat([char,cat],axis=1,join='inner')"
   ]
  },
  {
   "cell_type": "code",
   "execution_count": 18,
   "metadata": {},
   "outputs": [
    {
     "data": {
      "text/plain": [
       "hotel                           object\n",
       "arrival_month_year              object\n",
       "arrival_date_month              object\n",
       "meal                            object\n",
       "country                         object\n",
       "market_segment                  object\n",
       "distribution_channel            object\n",
       "reserved_room_type              object\n",
       "assigned_room_type              object\n",
       "deposit_type                    object\n",
       "customer_type                   object\n",
       "reservation_status              object\n",
       "reservation_status_date         object\n",
       "arrival_date_year                int64\n",
       "stays_in_weekend_nights          int64\n",
       "adults                           int64\n",
       "children                       float64\n",
       "babies                           int64\n",
       "is_repeated_guest                int64\n",
       "previous_cancellations           int64\n",
       "required_car_parking_spaces      int64\n",
       "total_of_special_requests        int64\n",
       "dtype: object"
      ]
     },
     "execution_count": 18,
     "metadata": {},
     "output_type": "execute_result"
    }
   ],
   "source": [
    "char.dtypes"
   ]
  },
  {
   "cell_type": "code",
   "execution_count": 19,
   "metadata": {},
   "outputs": [
    {
     "data": {
      "text/html": [
       "<div>\n",
       "<style scoped>\n",
       "    .dataframe tbody tr th:only-of-type {\n",
       "        vertical-align: middle;\n",
       "    }\n",
       "\n",
       "    .dataframe tbody tr th {\n",
       "        vertical-align: top;\n",
       "    }\n",
       "\n",
       "    .dataframe thead th {\n",
       "        text-align: right;\n",
       "    }\n",
       "</style>\n",
       "<table border=\"1\" class=\"dataframe\">\n",
       "  <thead>\n",
       "    <tr style=\"text-align: right;\">\n",
       "      <th></th>\n",
       "      <th>hotel</th>\n",
       "      <th>arrival_month_year</th>\n",
       "      <th>arrival_date_month</th>\n",
       "      <th>meal</th>\n",
       "      <th>country</th>\n",
       "      <th>market_segment</th>\n",
       "      <th>distribution_channel</th>\n",
       "      <th>reserved_room_type</th>\n",
       "      <th>assigned_room_type</th>\n",
       "      <th>deposit_type</th>\n",
       "      <th>customer_type</th>\n",
       "      <th>reservation_status</th>\n",
       "      <th>reservation_status_date</th>\n",
       "      <th>arrival_date_year</th>\n",
       "      <th>stays_in_weekend_nights</th>\n",
       "      <th>adults</th>\n",
       "      <th>children</th>\n",
       "      <th>babies</th>\n",
       "      <th>is_repeated_guest</th>\n",
       "      <th>previous_cancellations</th>\n",
       "      <th>required_car_parking_spaces</th>\n",
       "      <th>total_of_special_requests</th>\n",
       "    </tr>\n",
       "  </thead>\n",
       "  <tbody>\n",
       "    <tr>\n",
       "      <th>0</th>\n",
       "      <td>Resort Hotel</td>\n",
       "      <td>July 2015</td>\n",
       "      <td>July</td>\n",
       "      <td>BB</td>\n",
       "      <td>PRT</td>\n",
       "      <td>Direct</td>\n",
       "      <td>Direct</td>\n",
       "      <td>C</td>\n",
       "      <td>C</td>\n",
       "      <td>No Deposit</td>\n",
       "      <td>Transient</td>\n",
       "      <td>Check-Out</td>\n",
       "      <td>01-07-2015</td>\n",
       "      <td>2015</td>\n",
       "      <td>0</td>\n",
       "      <td>2</td>\n",
       "      <td>0.0</td>\n",
       "      <td>0</td>\n",
       "      <td>0</td>\n",
       "      <td>0</td>\n",
       "      <td>0</td>\n",
       "      <td>0</td>\n",
       "    </tr>\n",
       "    <tr>\n",
       "      <th>1</th>\n",
       "      <td>Resort Hotel</td>\n",
       "      <td>July 2015</td>\n",
       "      <td>July</td>\n",
       "      <td>BB</td>\n",
       "      <td>PRT</td>\n",
       "      <td>Direct</td>\n",
       "      <td>Direct</td>\n",
       "      <td>C</td>\n",
       "      <td>C</td>\n",
       "      <td>No Deposit</td>\n",
       "      <td>Transient</td>\n",
       "      <td>Check-Out</td>\n",
       "      <td>01-07-2015</td>\n",
       "      <td>2015</td>\n",
       "      <td>0</td>\n",
       "      <td>2</td>\n",
       "      <td>0.0</td>\n",
       "      <td>0</td>\n",
       "      <td>0</td>\n",
       "      <td>0</td>\n",
       "      <td>0</td>\n",
       "      <td>0</td>\n",
       "    </tr>\n",
       "    <tr>\n",
       "      <th>2</th>\n",
       "      <td>Resort Hotel</td>\n",
       "      <td>July 2015</td>\n",
       "      <td>July</td>\n",
       "      <td>BB</td>\n",
       "      <td>GBR</td>\n",
       "      <td>Direct</td>\n",
       "      <td>Direct</td>\n",
       "      <td>A</td>\n",
       "      <td>C</td>\n",
       "      <td>No Deposit</td>\n",
       "      <td>Transient</td>\n",
       "      <td>Check-Out</td>\n",
       "      <td>02-07-2015</td>\n",
       "      <td>2015</td>\n",
       "      <td>0</td>\n",
       "      <td>1</td>\n",
       "      <td>0.0</td>\n",
       "      <td>0</td>\n",
       "      <td>0</td>\n",
       "      <td>0</td>\n",
       "      <td>0</td>\n",
       "      <td>0</td>\n",
       "    </tr>\n",
       "    <tr>\n",
       "      <th>3</th>\n",
       "      <td>Resort Hotel</td>\n",
       "      <td>July 2015</td>\n",
       "      <td>July</td>\n",
       "      <td>BB</td>\n",
       "      <td>GBR</td>\n",
       "      <td>Corporate</td>\n",
       "      <td>Corporate</td>\n",
       "      <td>A</td>\n",
       "      <td>A</td>\n",
       "      <td>No Deposit</td>\n",
       "      <td>Transient</td>\n",
       "      <td>Check-Out</td>\n",
       "      <td>02-07-2015</td>\n",
       "      <td>2015</td>\n",
       "      <td>0</td>\n",
       "      <td>1</td>\n",
       "      <td>0.0</td>\n",
       "      <td>0</td>\n",
       "      <td>0</td>\n",
       "      <td>0</td>\n",
       "      <td>0</td>\n",
       "      <td>0</td>\n",
       "    </tr>\n",
       "    <tr>\n",
       "      <th>4</th>\n",
       "      <td>Resort Hotel</td>\n",
       "      <td>July 2015</td>\n",
       "      <td>July</td>\n",
       "      <td>BB</td>\n",
       "      <td>GBR</td>\n",
       "      <td>Online TA</td>\n",
       "      <td>TA/TO</td>\n",
       "      <td>A</td>\n",
       "      <td>A</td>\n",
       "      <td>No Deposit</td>\n",
       "      <td>Transient</td>\n",
       "      <td>Check-Out</td>\n",
       "      <td>03-07-2015</td>\n",
       "      <td>2015</td>\n",
       "      <td>0</td>\n",
       "      <td>2</td>\n",
       "      <td>0.0</td>\n",
       "      <td>0</td>\n",
       "      <td>0</td>\n",
       "      <td>0</td>\n",
       "      <td>0</td>\n",
       "      <td>1</td>\n",
       "    </tr>\n",
       "  </tbody>\n",
       "</table>\n",
       "</div>"
      ],
      "text/plain": [
       "          hotel arrival_month_year arrival_date_month meal country  \\\n",
       "0  Resort Hotel          July 2015               July   BB     PRT   \n",
       "1  Resort Hotel          July 2015               July   BB     PRT   \n",
       "2  Resort Hotel          July 2015               July   BB     GBR   \n",
       "3  Resort Hotel          July 2015               July   BB     GBR   \n",
       "4  Resort Hotel          July 2015               July   BB     GBR   \n",
       "\n",
       "  market_segment distribution_channel reserved_room_type assigned_room_type  \\\n",
       "0         Direct               Direct                  C                  C   \n",
       "1         Direct               Direct                  C                  C   \n",
       "2         Direct               Direct                  A                  C   \n",
       "3      Corporate            Corporate                  A                  A   \n",
       "4      Online TA                TA/TO                  A                  A   \n",
       "\n",
       "  deposit_type customer_type reservation_status reservation_status_date  \\\n",
       "0   No Deposit     Transient          Check-Out              01-07-2015   \n",
       "1   No Deposit     Transient          Check-Out              01-07-2015   \n",
       "2   No Deposit     Transient          Check-Out              02-07-2015   \n",
       "3   No Deposit     Transient          Check-Out              02-07-2015   \n",
       "4   No Deposit     Transient          Check-Out              03-07-2015   \n",
       "\n",
       "   arrival_date_year  stays_in_weekend_nights  adults  children  babies  \\\n",
       "0               2015                        0       2       0.0       0   \n",
       "1               2015                        0       2       0.0       0   \n",
       "2               2015                        0       1       0.0       0   \n",
       "3               2015                        0       1       0.0       0   \n",
       "4               2015                        0       2       0.0       0   \n",
       "\n",
       "   is_repeated_guest  previous_cancellations  required_car_parking_spaces  \\\n",
       "0                  0                       0                            0   \n",
       "1                  0                       0                            0   \n",
       "2                  0                       0                            0   \n",
       "3                  0                       0                            0   \n",
       "4                  0                       0                            0   \n",
       "\n",
       "   total_of_special_requests  \n",
       "0                          0  \n",
       "1                          0  \n",
       "2                          0  \n",
       "3                          0  \n",
       "4                          1  "
      ]
     },
     "execution_count": 19,
     "metadata": {},
     "output_type": "execute_result"
    }
   ],
   "source": [
    "char.head()"
   ]
  },
  {
   "cell_type": "markdown",
   "metadata": {},
   "source": [
    "### Outlier Analysis of Numerical Features"
   ]
  },
  {
   "cell_type": "code",
   "execution_count": 20,
   "metadata": {},
   "outputs": [
    {
     "data": {
      "text/html": [
       "<div>\n",
       "<style scoped>\n",
       "    .dataframe tbody tr th:only-of-type {\n",
       "        vertical-align: middle;\n",
       "    }\n",
       "\n",
       "    .dataframe tbody tr th {\n",
       "        vertical-align: top;\n",
       "    }\n",
       "\n",
       "    .dataframe thead th {\n",
       "        text-align: right;\n",
       "    }\n",
       "</style>\n",
       "<table border=\"1\" class=\"dataframe\">\n",
       "  <thead>\n",
       "    <tr style=\"text-align: right;\">\n",
       "      <th></th>\n",
       "      <th>lead_time</th>\n",
       "      <th>arrival_date_week_number</th>\n",
       "      <th>arrival_date_day_of_month</th>\n",
       "      <th>stays_in_week_nights</th>\n",
       "      <th>previous_bookings_not_canceled</th>\n",
       "      <th>booking_changes</th>\n",
       "      <th>agent</th>\n",
       "      <th>company</th>\n",
       "      <th>days_in_waiting_list</th>\n",
       "      <th>adr</th>\n",
       "    </tr>\n",
       "  </thead>\n",
       "  <tbody>\n",
       "    <tr>\n",
       "      <th>count</th>\n",
       "      <td>119390.000000</td>\n",
       "      <td>119390.000000</td>\n",
       "      <td>119390.000000</td>\n",
       "      <td>119390.000000</td>\n",
       "      <td>119390.000000</td>\n",
       "      <td>119390.000000</td>\n",
       "      <td>103050.000000</td>\n",
       "      <td>6797.000000</td>\n",
       "      <td>119390.000000</td>\n",
       "      <td>119390.000000</td>\n",
       "    </tr>\n",
       "    <tr>\n",
       "      <th>mean</th>\n",
       "      <td>104.011416</td>\n",
       "      <td>27.165173</td>\n",
       "      <td>15.798241</td>\n",
       "      <td>2.500302</td>\n",
       "      <td>0.137097</td>\n",
       "      <td>0.221124</td>\n",
       "      <td>86.693382</td>\n",
       "      <td>189.266735</td>\n",
       "      <td>2.321149</td>\n",
       "      <td>101.831122</td>\n",
       "    </tr>\n",
       "    <tr>\n",
       "      <th>std</th>\n",
       "      <td>106.863097</td>\n",
       "      <td>13.605138</td>\n",
       "      <td>8.780829</td>\n",
       "      <td>1.908286</td>\n",
       "      <td>1.497437</td>\n",
       "      <td>0.652306</td>\n",
       "      <td>110.774548</td>\n",
       "      <td>131.655015</td>\n",
       "      <td>17.594721</td>\n",
       "      <td>50.535790</td>\n",
       "    </tr>\n",
       "    <tr>\n",
       "      <th>min</th>\n",
       "      <td>0.000000</td>\n",
       "      <td>1.000000</td>\n",
       "      <td>1.000000</td>\n",
       "      <td>0.000000</td>\n",
       "      <td>0.000000</td>\n",
       "      <td>0.000000</td>\n",
       "      <td>1.000000</td>\n",
       "      <td>6.000000</td>\n",
       "      <td>0.000000</td>\n",
       "      <td>-6.380000</td>\n",
       "    </tr>\n",
       "    <tr>\n",
       "      <th>1%</th>\n",
       "      <td>0.000000</td>\n",
       "      <td>2.000000</td>\n",
       "      <td>1.000000</td>\n",
       "      <td>0.000000</td>\n",
       "      <td>0.000000</td>\n",
       "      <td>0.000000</td>\n",
       "      <td>1.000000</td>\n",
       "      <td>16.000000</td>\n",
       "      <td>0.000000</td>\n",
       "      <td>0.000000</td>\n",
       "    </tr>\n",
       "    <tr>\n",
       "      <th>5%</th>\n",
       "      <td>0.000000</td>\n",
       "      <td>5.000000</td>\n",
       "      <td>2.000000</td>\n",
       "      <td>0.000000</td>\n",
       "      <td>0.000000</td>\n",
       "      <td>0.000000</td>\n",
       "      <td>1.000000</td>\n",
       "      <td>40.000000</td>\n",
       "      <td>0.000000</td>\n",
       "      <td>38.400000</td>\n",
       "    </tr>\n",
       "    <tr>\n",
       "      <th>10%</th>\n",
       "      <td>3.000000</td>\n",
       "      <td>8.000000</td>\n",
       "      <td>4.000000</td>\n",
       "      <td>1.000000</td>\n",
       "      <td>0.000000</td>\n",
       "      <td>0.000000</td>\n",
       "      <td>6.000000</td>\n",
       "      <td>40.000000</td>\n",
       "      <td>0.000000</td>\n",
       "      <td>50.000000</td>\n",
       "    </tr>\n",
       "    <tr>\n",
       "      <th>25%</th>\n",
       "      <td>18.000000</td>\n",
       "      <td>16.000000</td>\n",
       "      <td>8.000000</td>\n",
       "      <td>1.000000</td>\n",
       "      <td>0.000000</td>\n",
       "      <td>0.000000</td>\n",
       "      <td>9.000000</td>\n",
       "      <td>62.000000</td>\n",
       "      <td>0.000000</td>\n",
       "      <td>69.290000</td>\n",
       "    </tr>\n",
       "    <tr>\n",
       "      <th>50%</th>\n",
       "      <td>69.000000</td>\n",
       "      <td>28.000000</td>\n",
       "      <td>16.000000</td>\n",
       "      <td>2.000000</td>\n",
       "      <td>0.000000</td>\n",
       "      <td>0.000000</td>\n",
       "      <td>14.000000</td>\n",
       "      <td>179.000000</td>\n",
       "      <td>0.000000</td>\n",
       "      <td>94.575000</td>\n",
       "    </tr>\n",
       "    <tr>\n",
       "      <th>75%</th>\n",
       "      <td>160.000000</td>\n",
       "      <td>38.000000</td>\n",
       "      <td>23.000000</td>\n",
       "      <td>3.000000</td>\n",
       "      <td>0.000000</td>\n",
       "      <td>0.000000</td>\n",
       "      <td>229.000000</td>\n",
       "      <td>270.000000</td>\n",
       "      <td>0.000000</td>\n",
       "      <td>126.000000</td>\n",
       "    </tr>\n",
       "    <tr>\n",
       "      <th>85%</th>\n",
       "      <td>216.000000</td>\n",
       "      <td>43.000000</td>\n",
       "      <td>26.000000</td>\n",
       "      <td>4.000000</td>\n",
       "      <td>0.000000</td>\n",
       "      <td>1.000000</td>\n",
       "      <td>240.000000</td>\n",
       "      <td>343.000000</td>\n",
       "      <td>0.000000</td>\n",
       "      <td>147.000000</td>\n",
       "    </tr>\n",
       "    <tr>\n",
       "      <th>88%</th>\n",
       "      <td>244.000000</td>\n",
       "      <td>44.000000</td>\n",
       "      <td>27.000000</td>\n",
       "      <td>5.000000</td>\n",
       "      <td>0.000000</td>\n",
       "      <td>1.000000</td>\n",
       "      <td>240.000000</td>\n",
       "      <td>367.000000</td>\n",
       "      <td>0.000000</td>\n",
       "      <td>157.280000</td>\n",
       "    </tr>\n",
       "    <tr>\n",
       "      <th>90%</th>\n",
       "      <td>265.000000</td>\n",
       "      <td>46.000000</td>\n",
       "      <td>28.000000</td>\n",
       "      <td>5.000000</td>\n",
       "      <td>0.000000</td>\n",
       "      <td>1.000000</td>\n",
       "      <td>241.000000</td>\n",
       "      <td>390.400000</td>\n",
       "      <td>0.000000</td>\n",
       "      <td>164.000000</td>\n",
       "    </tr>\n",
       "    <tr>\n",
       "      <th>99%</th>\n",
       "      <td>444.000000</td>\n",
       "      <td>53.000000</td>\n",
       "      <td>31.000000</td>\n",
       "      <td>10.000000</td>\n",
       "      <td>3.000000</td>\n",
       "      <td>3.000000</td>\n",
       "      <td>390.000000</td>\n",
       "      <td>513.040000</td>\n",
       "      <td>75.000000</td>\n",
       "      <td>252.000000</td>\n",
       "    </tr>\n",
       "    <tr>\n",
       "      <th>max</th>\n",
       "      <td>737.000000</td>\n",
       "      <td>53.000000</td>\n",
       "      <td>31.000000</td>\n",
       "      <td>50.000000</td>\n",
       "      <td>72.000000</td>\n",
       "      <td>21.000000</td>\n",
       "      <td>535.000000</td>\n",
       "      <td>543.000000</td>\n",
       "      <td>391.000000</td>\n",
       "      <td>5400.000000</td>\n",
       "    </tr>\n",
       "  </tbody>\n",
       "</table>\n",
       "</div>"
      ],
      "text/plain": [
       "           lead_time  arrival_date_week_number  arrival_date_day_of_month  \\\n",
       "count  119390.000000             119390.000000              119390.000000   \n",
       "mean      104.011416                 27.165173                  15.798241   \n",
       "std       106.863097                 13.605138                   8.780829   \n",
       "min         0.000000                  1.000000                   1.000000   \n",
       "1%          0.000000                  2.000000                   1.000000   \n",
       "5%          0.000000                  5.000000                   2.000000   \n",
       "10%         3.000000                  8.000000                   4.000000   \n",
       "25%        18.000000                 16.000000                   8.000000   \n",
       "50%        69.000000                 28.000000                  16.000000   \n",
       "75%       160.000000                 38.000000                  23.000000   \n",
       "85%       216.000000                 43.000000                  26.000000   \n",
       "88%       244.000000                 44.000000                  27.000000   \n",
       "90%       265.000000                 46.000000                  28.000000   \n",
       "99%       444.000000                 53.000000                  31.000000   \n",
       "max       737.000000                 53.000000                  31.000000   \n",
       "\n",
       "       stays_in_week_nights  previous_bookings_not_canceled  booking_changes  \\\n",
       "count         119390.000000                   119390.000000    119390.000000   \n",
       "mean               2.500302                        0.137097         0.221124   \n",
       "std                1.908286                        1.497437         0.652306   \n",
       "min                0.000000                        0.000000         0.000000   \n",
       "1%                 0.000000                        0.000000         0.000000   \n",
       "5%                 0.000000                        0.000000         0.000000   \n",
       "10%                1.000000                        0.000000         0.000000   \n",
       "25%                1.000000                        0.000000         0.000000   \n",
       "50%                2.000000                        0.000000         0.000000   \n",
       "75%                3.000000                        0.000000         0.000000   \n",
       "85%                4.000000                        0.000000         1.000000   \n",
       "88%                5.000000                        0.000000         1.000000   \n",
       "90%                5.000000                        0.000000         1.000000   \n",
       "99%               10.000000                        3.000000         3.000000   \n",
       "max               50.000000                       72.000000        21.000000   \n",
       "\n",
       "               agent      company  days_in_waiting_list            adr  \n",
       "count  103050.000000  6797.000000         119390.000000  119390.000000  \n",
       "mean       86.693382   189.266735              2.321149     101.831122  \n",
       "std       110.774548   131.655015             17.594721      50.535790  \n",
       "min         1.000000     6.000000              0.000000      -6.380000  \n",
       "1%          1.000000    16.000000              0.000000       0.000000  \n",
       "5%          1.000000    40.000000              0.000000      38.400000  \n",
       "10%         6.000000    40.000000              0.000000      50.000000  \n",
       "25%         9.000000    62.000000              0.000000      69.290000  \n",
       "50%        14.000000   179.000000              0.000000      94.575000  \n",
       "75%       229.000000   270.000000              0.000000     126.000000  \n",
       "85%       240.000000   343.000000              0.000000     147.000000  \n",
       "88%       240.000000   367.000000              0.000000     157.280000  \n",
       "90%       241.000000   390.400000              0.000000     164.000000  \n",
       "99%       390.000000   513.040000             75.000000     252.000000  \n",
       "max       535.000000   543.000000            391.000000    5400.000000  "
      ]
     },
     "execution_count": 20,
     "metadata": {},
     "output_type": "execute_result"
    }
   ],
   "source": [
    "num.describe(percentiles=[0.01,0.05,0.10,0.25,0.50,0.75,0.85,0.88,0.9,0.99])"
   ]
  },
  {
   "cell_type": "markdown",
   "metadata": {},
   "source": [
    "### Capping and Flooring of outliers"
   ]
  },
  {
   "cell_type": "code",
   "execution_count": 21,
   "metadata": {},
   "outputs": [],
   "source": [
    "def outlier_cap(x):\n",
    "    '''This method removes all values below the 1st percentile and above the 99th percentile'''\n",
    "    x=x.clip(lower=x.quantile(0.01))\n",
    "    x=x.clip(upper=x.quantile(0.99))\n",
    "    return(x)"
   ]
  },
  {
   "cell_type": "code",
   "execution_count": 22,
   "metadata": {},
   "outputs": [],
   "source": [
    "# removing the very extreme outliers\n",
    "num=num.apply(lambda x : outlier_cap(x))"
   ]
  },
  {
   "cell_type": "code",
   "execution_count": 23,
   "metadata": {},
   "outputs": [
    {
     "data": {
      "text/html": [
       "<div>\n",
       "<style scoped>\n",
       "    .dataframe tbody tr th:only-of-type {\n",
       "        vertical-align: middle;\n",
       "    }\n",
       "\n",
       "    .dataframe tbody tr th {\n",
       "        vertical-align: top;\n",
       "    }\n",
       "\n",
       "    .dataframe thead th {\n",
       "        text-align: right;\n",
       "    }\n",
       "</style>\n",
       "<table border=\"1\" class=\"dataframe\">\n",
       "  <thead>\n",
       "    <tr style=\"text-align: right;\">\n",
       "      <th></th>\n",
       "      <th>lead_time</th>\n",
       "      <th>arrival_date_week_number</th>\n",
       "      <th>arrival_date_day_of_month</th>\n",
       "      <th>stays_in_week_nights</th>\n",
       "      <th>previous_bookings_not_canceled</th>\n",
       "      <th>booking_changes</th>\n",
       "      <th>agent</th>\n",
       "      <th>company</th>\n",
       "      <th>days_in_waiting_list</th>\n",
       "      <th>adr</th>\n",
       "    </tr>\n",
       "  </thead>\n",
       "  <tbody>\n",
       "    <tr>\n",
       "      <th>count</th>\n",
       "      <td>119390.000000</td>\n",
       "      <td>119390.000000</td>\n",
       "      <td>119390.000000</td>\n",
       "      <td>119390.000000</td>\n",
       "      <td>119390.000000</td>\n",
       "      <td>119390.000000</td>\n",
       "      <td>103050.000000</td>\n",
       "      <td>6797.000000</td>\n",
       "      <td>119390.000000</td>\n",
       "      <td>119390.000000</td>\n",
       "    </tr>\n",
       "    <tr>\n",
       "      <th>mean</th>\n",
       "      <td>103.409180</td>\n",
       "      <td>27.173943</td>\n",
       "      <td>15.798241</td>\n",
       "      <td>2.479211</td>\n",
       "      <td>0.060273</td>\n",
       "      <td>0.209574</td>\n",
       "      <td>86.008598</td>\n",
       "      <td>189.206373</td>\n",
       "      <td>1.606902</td>\n",
       "      <td>101.461251</td>\n",
       "    </tr>\n",
       "    <tr>\n",
       "      <th>std</th>\n",
       "      <td>104.600923</td>\n",
       "      <td>13.588582</td>\n",
       "      <td>8.780829</td>\n",
       "      <td>1.761267</td>\n",
       "      <td>0.376351</td>\n",
       "      <td>0.555245</td>\n",
       "      <td>108.591334</td>\n",
       "      <td>131.297172</td>\n",
       "      <td>9.760268</td>\n",
       "      <td>46.905036</td>\n",
       "    </tr>\n",
       "    <tr>\n",
       "      <th>min</th>\n",
       "      <td>0.000000</td>\n",
       "      <td>2.000000</td>\n",
       "      <td>1.000000</td>\n",
       "      <td>0.000000</td>\n",
       "      <td>0.000000</td>\n",
       "      <td>0.000000</td>\n",
       "      <td>1.000000</td>\n",
       "      <td>16.000000</td>\n",
       "      <td>0.000000</td>\n",
       "      <td>0.000000</td>\n",
       "    </tr>\n",
       "    <tr>\n",
       "      <th>1%</th>\n",
       "      <td>0.000000</td>\n",
       "      <td>2.000000</td>\n",
       "      <td>1.000000</td>\n",
       "      <td>0.000000</td>\n",
       "      <td>0.000000</td>\n",
       "      <td>0.000000</td>\n",
       "      <td>1.000000</td>\n",
       "      <td>16.000000</td>\n",
       "      <td>0.000000</td>\n",
       "      <td>0.000000</td>\n",
       "    </tr>\n",
       "    <tr>\n",
       "      <th>5%</th>\n",
       "      <td>0.000000</td>\n",
       "      <td>5.000000</td>\n",
       "      <td>2.000000</td>\n",
       "      <td>0.000000</td>\n",
       "      <td>0.000000</td>\n",
       "      <td>0.000000</td>\n",
       "      <td>1.000000</td>\n",
       "      <td>40.000000</td>\n",
       "      <td>0.000000</td>\n",
       "      <td>38.400000</td>\n",
       "    </tr>\n",
       "    <tr>\n",
       "      <th>10%</th>\n",
       "      <td>3.000000</td>\n",
       "      <td>8.000000</td>\n",
       "      <td>4.000000</td>\n",
       "      <td>1.000000</td>\n",
       "      <td>0.000000</td>\n",
       "      <td>0.000000</td>\n",
       "      <td>6.000000</td>\n",
       "      <td>40.000000</td>\n",
       "      <td>0.000000</td>\n",
       "      <td>50.000000</td>\n",
       "    </tr>\n",
       "    <tr>\n",
       "      <th>25%</th>\n",
       "      <td>18.000000</td>\n",
       "      <td>16.000000</td>\n",
       "      <td>8.000000</td>\n",
       "      <td>1.000000</td>\n",
       "      <td>0.000000</td>\n",
       "      <td>0.000000</td>\n",
       "      <td>9.000000</td>\n",
       "      <td>62.000000</td>\n",
       "      <td>0.000000</td>\n",
       "      <td>69.290000</td>\n",
       "    </tr>\n",
       "    <tr>\n",
       "      <th>50%</th>\n",
       "      <td>69.000000</td>\n",
       "      <td>28.000000</td>\n",
       "      <td>16.000000</td>\n",
       "      <td>2.000000</td>\n",
       "      <td>0.000000</td>\n",
       "      <td>0.000000</td>\n",
       "      <td>14.000000</td>\n",
       "      <td>179.000000</td>\n",
       "      <td>0.000000</td>\n",
       "      <td>94.575000</td>\n",
       "    </tr>\n",
       "    <tr>\n",
       "      <th>75%</th>\n",
       "      <td>160.000000</td>\n",
       "      <td>38.000000</td>\n",
       "      <td>23.000000</td>\n",
       "      <td>3.000000</td>\n",
       "      <td>0.000000</td>\n",
       "      <td>0.000000</td>\n",
       "      <td>229.000000</td>\n",
       "      <td>270.000000</td>\n",
       "      <td>0.000000</td>\n",
       "      <td>126.000000</td>\n",
       "    </tr>\n",
       "    <tr>\n",
       "      <th>85%</th>\n",
       "      <td>216.000000</td>\n",
       "      <td>43.000000</td>\n",
       "      <td>26.000000</td>\n",
       "      <td>4.000000</td>\n",
       "      <td>0.000000</td>\n",
       "      <td>1.000000</td>\n",
       "      <td>240.000000</td>\n",
       "      <td>343.000000</td>\n",
       "      <td>0.000000</td>\n",
       "      <td>147.000000</td>\n",
       "    </tr>\n",
       "    <tr>\n",
       "      <th>88%</th>\n",
       "      <td>244.000000</td>\n",
       "      <td>44.000000</td>\n",
       "      <td>27.000000</td>\n",
       "      <td>5.000000</td>\n",
       "      <td>0.000000</td>\n",
       "      <td>1.000000</td>\n",
       "      <td>240.000000</td>\n",
       "      <td>367.000000</td>\n",
       "      <td>0.000000</td>\n",
       "      <td>157.280000</td>\n",
       "    </tr>\n",
       "    <tr>\n",
       "      <th>90%</th>\n",
       "      <td>265.000000</td>\n",
       "      <td>46.000000</td>\n",
       "      <td>28.000000</td>\n",
       "      <td>5.000000</td>\n",
       "      <td>0.000000</td>\n",
       "      <td>1.000000</td>\n",
       "      <td>241.000000</td>\n",
       "      <td>390.400000</td>\n",
       "      <td>0.000000</td>\n",
       "      <td>164.000000</td>\n",
       "    </tr>\n",
       "    <tr>\n",
       "      <th>99%</th>\n",
       "      <td>444.000000</td>\n",
       "      <td>53.000000</td>\n",
       "      <td>31.000000</td>\n",
       "      <td>10.000000</td>\n",
       "      <td>3.000000</td>\n",
       "      <td>3.000000</td>\n",
       "      <td>390.000000</td>\n",
       "      <td>513.001600</td>\n",
       "      <td>75.000000</td>\n",
       "      <td>252.000000</td>\n",
       "    </tr>\n",
       "    <tr>\n",
       "      <th>max</th>\n",
       "      <td>444.000000</td>\n",
       "      <td>53.000000</td>\n",
       "      <td>31.000000</td>\n",
       "      <td>10.000000</td>\n",
       "      <td>3.000000</td>\n",
       "      <td>3.000000</td>\n",
       "      <td>390.000000</td>\n",
       "      <td>513.040000</td>\n",
       "      <td>75.000000</td>\n",
       "      <td>252.000000</td>\n",
       "    </tr>\n",
       "  </tbody>\n",
       "</table>\n",
       "</div>"
      ],
      "text/plain": [
       "           lead_time  arrival_date_week_number  arrival_date_day_of_month  \\\n",
       "count  119390.000000             119390.000000              119390.000000   \n",
       "mean      103.409180                 27.173943                  15.798241   \n",
       "std       104.600923                 13.588582                   8.780829   \n",
       "min         0.000000                  2.000000                   1.000000   \n",
       "1%          0.000000                  2.000000                   1.000000   \n",
       "5%          0.000000                  5.000000                   2.000000   \n",
       "10%         3.000000                  8.000000                   4.000000   \n",
       "25%        18.000000                 16.000000                   8.000000   \n",
       "50%        69.000000                 28.000000                  16.000000   \n",
       "75%       160.000000                 38.000000                  23.000000   \n",
       "85%       216.000000                 43.000000                  26.000000   \n",
       "88%       244.000000                 44.000000                  27.000000   \n",
       "90%       265.000000                 46.000000                  28.000000   \n",
       "99%       444.000000                 53.000000                  31.000000   \n",
       "max       444.000000                 53.000000                  31.000000   \n",
       "\n",
       "       stays_in_week_nights  previous_bookings_not_canceled  booking_changes  \\\n",
       "count         119390.000000                   119390.000000    119390.000000   \n",
       "mean               2.479211                        0.060273         0.209574   \n",
       "std                1.761267                        0.376351         0.555245   \n",
       "min                0.000000                        0.000000         0.000000   \n",
       "1%                 0.000000                        0.000000         0.000000   \n",
       "5%                 0.000000                        0.000000         0.000000   \n",
       "10%                1.000000                        0.000000         0.000000   \n",
       "25%                1.000000                        0.000000         0.000000   \n",
       "50%                2.000000                        0.000000         0.000000   \n",
       "75%                3.000000                        0.000000         0.000000   \n",
       "85%                4.000000                        0.000000         1.000000   \n",
       "88%                5.000000                        0.000000         1.000000   \n",
       "90%                5.000000                        0.000000         1.000000   \n",
       "99%               10.000000                        3.000000         3.000000   \n",
       "max               10.000000                        3.000000         3.000000   \n",
       "\n",
       "               agent      company  days_in_waiting_list            adr  \n",
       "count  103050.000000  6797.000000         119390.000000  119390.000000  \n",
       "mean       86.008598   189.206373              1.606902     101.461251  \n",
       "std       108.591334   131.297172              9.760268      46.905036  \n",
       "min         1.000000    16.000000              0.000000       0.000000  \n",
       "1%          1.000000    16.000000              0.000000       0.000000  \n",
       "5%          1.000000    40.000000              0.000000      38.400000  \n",
       "10%         6.000000    40.000000              0.000000      50.000000  \n",
       "25%         9.000000    62.000000              0.000000      69.290000  \n",
       "50%        14.000000   179.000000              0.000000      94.575000  \n",
       "75%       229.000000   270.000000              0.000000     126.000000  \n",
       "85%       240.000000   343.000000              0.000000     147.000000  \n",
       "88%       240.000000   367.000000              0.000000     157.280000  \n",
       "90%       241.000000   390.400000              0.000000     164.000000  \n",
       "99%       390.000000   513.001600             75.000000     252.000000  \n",
       "max       390.000000   513.040000             75.000000     252.000000  "
      ]
     },
     "execution_count": 23,
     "metadata": {},
     "output_type": "execute_result"
    }
   ],
   "source": [
    "num.describe(percentiles=[0.01,0.05,0.10,0.25,0.50,0.75,0.85,0.88,0.9,0.99])"
   ]
  },
  {
   "cell_type": "markdown",
   "metadata": {},
   "source": [
    "### Missing Value Analysis"
   ]
  },
  {
   "cell_type": "code",
   "execution_count": 24,
   "metadata": {},
   "outputs": [
    {
     "data": {
      "text/plain": [
       "lead_time                              0\n",
       "arrival_date_week_number               0\n",
       "arrival_date_day_of_month              0\n",
       "stays_in_week_nights                   0\n",
       "previous_bookings_not_canceled         0\n",
       "booking_changes                        0\n",
       "agent                              16340\n",
       "company                           112593\n",
       "days_in_waiting_list                   0\n",
       "adr                                    0\n",
       "dtype: int64"
      ]
     },
     "execution_count": 24,
     "metadata": {},
     "output_type": "execute_result"
    }
   ],
   "source": [
    "# Missing Value Analysis of numerical data\n",
    "num.isnull().sum()"
   ]
  },
  {
   "cell_type": "markdown",
   "metadata": {},
   "source": [
    "<b>There are 16340 null entries for agent and 112593 null entries for company</b>"
   ]
  },
  {
   "cell_type": "code",
   "execution_count": 25,
   "metadata": {},
   "outputs": [
    {
     "data": {
      "text/plain": [
       "lead_time                         0.000000\n",
       "arrival_date_week_number          0.000000\n",
       "arrival_date_day_of_month         0.000000\n",
       "stays_in_week_nights              0.000000\n",
       "previous_bookings_not_canceled    0.000000\n",
       "booking_changes                   0.000000\n",
       "agent                             0.136862\n",
       "company                           0.943069\n",
       "days_in_waiting_list              0.000000\n",
       "adr                               0.000000\n",
       "dtype: float64"
      ]
     },
     "execution_count": 25,
     "metadata": {},
     "output_type": "execute_result"
    }
   ],
   "source": [
    "num.isnull().mean()"
   ]
  },
  {
   "cell_type": "markdown",
   "metadata": {},
   "source": [
    "94% of the values for company is null. It is best to drop this column as retaining this column will lead to more guesses which can hinder our analysis.\n",
    "\n",
    "13.68% of the values for agent is null. This needs to be handled"
   ]
  },
  {
   "cell_type": "code",
   "execution_count": 26,
   "metadata": {},
   "outputs": [
    {
     "data": {
      "text/plain": [
       "hotel                            0\n",
       "arrival_month_year               0\n",
       "arrival_date_month               0\n",
       "meal                             0\n",
       "country                        488\n",
       "market_segment                   0\n",
       "distribution_channel             0\n",
       "reserved_room_type               0\n",
       "assigned_room_type               0\n",
       "deposit_type                     0\n",
       "customer_type                    0\n",
       "reservation_status               0\n",
       "reservation_status_date          0\n",
       "arrival_date_year                0\n",
       "stays_in_weekend_nights          0\n",
       "adults                           0\n",
       "children                         4\n",
       "babies                           0\n",
       "is_repeated_guest                0\n",
       "previous_cancellations           0\n",
       "required_car_parking_spaces      0\n",
       "total_of_special_requests        0\n",
       "dtype: int64"
      ]
     },
     "execution_count": 26,
     "metadata": {},
     "output_type": "execute_result"
    }
   ],
   "source": [
    "# Missing value analysis of categorical data\n",
    "char.isnull().sum()"
   ]
  },
  {
   "cell_type": "markdown",
   "metadata": {},
   "source": [
    "There are 488 missing values for country feature "
   ]
  },
  {
   "cell_type": "code",
   "execution_count": 27,
   "metadata": {},
   "outputs": [
    {
     "data": {
      "text/plain": [
       "hotel                          0.000000\n",
       "arrival_month_year             0.000000\n",
       "arrival_date_month             0.000000\n",
       "meal                           0.000000\n",
       "country                        0.004087\n",
       "market_segment                 0.000000\n",
       "distribution_channel           0.000000\n",
       "reserved_room_type             0.000000\n",
       "assigned_room_type             0.000000\n",
       "deposit_type                   0.000000\n",
       "customer_type                  0.000000\n",
       "reservation_status             0.000000\n",
       "reservation_status_date        0.000000\n",
       "arrival_date_year              0.000000\n",
       "stays_in_weekend_nights        0.000000\n",
       "adults                         0.000000\n",
       "children                       0.000034\n",
       "babies                         0.000000\n",
       "is_repeated_guest              0.000000\n",
       "previous_cancellations         0.000000\n",
       "required_car_parking_spaces    0.000000\n",
       "total_of_special_requests      0.000000\n",
       "dtype: float64"
      ]
     },
     "execution_count": 27,
     "metadata": {},
     "output_type": "execute_result"
    }
   ],
   "source": [
    "char.isnull().mean()"
   ]
  },
  {
   "cell_type": "markdown",
   "metadata": {},
   "source": [
    "### Dropping features that have > 25% missing values"
   ]
  },
  {
   "cell_type": "code",
   "execution_count": 28,
   "metadata": {},
   "outputs": [],
   "source": [
    "num = num.loc[:, num.isnull().mean() <= .25]"
   ]
  },
  {
   "cell_type": "code",
   "execution_count": 29,
   "metadata": {},
   "outputs": [
    {
     "data": {
      "text/plain": [
       "lead_time                         0.000000\n",
       "arrival_date_week_number          0.000000\n",
       "arrival_date_day_of_month         0.000000\n",
       "stays_in_week_nights              0.000000\n",
       "previous_bookings_not_canceled    0.000000\n",
       "booking_changes                   0.000000\n",
       "agent                             0.136862\n",
       "days_in_waiting_list              0.000000\n",
       "adr                               0.000000\n",
       "dtype: float64"
      ]
     },
     "execution_count": 29,
     "metadata": {},
     "output_type": "execute_result"
    }
   ],
   "source": [
    "# Ensuring that fetures with more than 25% missing values have been dropped\n",
    "num.isnull().mean()\n",
    "\n",
    "#company  has been dropped"
   ]
  },
  {
   "cell_type": "markdown",
   "metadata": {},
   "source": [
    "### Imputation of Missing Values"
   ]
  },
  {
   "cell_type": "markdown",
   "metadata": {},
   "source": [
    "#### Missing Value Imputation for numerical data"
   ]
  },
  {
   "cell_type": "code",
   "execution_count": 30,
   "metadata": {},
   "outputs": [
    {
     "data": {
      "text/html": [
       "<div>\n",
       "<style scoped>\n",
       "    .dataframe tbody tr th:only-of-type {\n",
       "        vertical-align: middle;\n",
       "    }\n",
       "\n",
       "    .dataframe tbody tr th {\n",
       "        vertical-align: top;\n",
       "    }\n",
       "\n",
       "    .dataframe thead th {\n",
       "        text-align: right;\n",
       "    }\n",
       "</style>\n",
       "<table border=\"1\" class=\"dataframe\">\n",
       "  <thead>\n",
       "    <tr style=\"text-align: right;\">\n",
       "      <th></th>\n",
       "      <th>lead_time</th>\n",
       "      <th>arrival_date_week_number</th>\n",
       "      <th>arrival_date_day_of_month</th>\n",
       "      <th>stays_in_week_nights</th>\n",
       "      <th>previous_bookings_not_canceled</th>\n",
       "      <th>booking_changes</th>\n",
       "      <th>agent</th>\n",
       "      <th>days_in_waiting_list</th>\n",
       "      <th>adr</th>\n",
       "    </tr>\n",
       "  </thead>\n",
       "  <tbody>\n",
       "    <tr>\n",
       "      <th>0</th>\n",
       "      <td>342.0</td>\n",
       "      <td>27.0</td>\n",
       "      <td>1.0</td>\n",
       "      <td>0.0</td>\n",
       "      <td>0.0</td>\n",
       "      <td>3.0</td>\n",
       "      <td>86.008598</td>\n",
       "      <td>0.0</td>\n",
       "      <td>0.0</td>\n",
       "    </tr>\n",
       "    <tr>\n",
       "      <th>1</th>\n",
       "      <td>444.0</td>\n",
       "      <td>27.0</td>\n",
       "      <td>1.0</td>\n",
       "      <td>0.0</td>\n",
       "      <td>0.0</td>\n",
       "      <td>3.0</td>\n",
       "      <td>86.008598</td>\n",
       "      <td>0.0</td>\n",
       "      <td>0.0</td>\n",
       "    </tr>\n",
       "    <tr>\n",
       "      <th>2</th>\n",
       "      <td>7.0</td>\n",
       "      <td>27.0</td>\n",
       "      <td>1.0</td>\n",
       "      <td>1.0</td>\n",
       "      <td>0.0</td>\n",
       "      <td>0.0</td>\n",
       "      <td>86.008598</td>\n",
       "      <td>0.0</td>\n",
       "      <td>75.0</td>\n",
       "    </tr>\n",
       "    <tr>\n",
       "      <th>3</th>\n",
       "      <td>13.0</td>\n",
       "      <td>27.0</td>\n",
       "      <td>1.0</td>\n",
       "      <td>1.0</td>\n",
       "      <td>0.0</td>\n",
       "      <td>0.0</td>\n",
       "      <td>304.000000</td>\n",
       "      <td>0.0</td>\n",
       "      <td>75.0</td>\n",
       "    </tr>\n",
       "    <tr>\n",
       "      <th>4</th>\n",
       "      <td>14.0</td>\n",
       "      <td>27.0</td>\n",
       "      <td>1.0</td>\n",
       "      <td>2.0</td>\n",
       "      <td>0.0</td>\n",
       "      <td>0.0</td>\n",
       "      <td>240.000000</td>\n",
       "      <td>0.0</td>\n",
       "      <td>98.0</td>\n",
       "    </tr>\n",
       "  </tbody>\n",
       "</table>\n",
       "</div>"
      ],
      "text/plain": [
       "   lead_time  arrival_date_week_number  arrival_date_day_of_month  \\\n",
       "0      342.0                      27.0                        1.0   \n",
       "1      444.0                      27.0                        1.0   \n",
       "2        7.0                      27.0                        1.0   \n",
       "3       13.0                      27.0                        1.0   \n",
       "4       14.0                      27.0                        1.0   \n",
       "\n",
       "   stays_in_week_nights  previous_bookings_not_canceled  booking_changes  \\\n",
       "0                   0.0                             0.0              3.0   \n",
       "1                   0.0                             0.0              3.0   \n",
       "2                   1.0                             0.0              0.0   \n",
       "3                   1.0                             0.0              0.0   \n",
       "4                   2.0                             0.0              0.0   \n",
       "\n",
       "        agent  days_in_waiting_list   adr  \n",
       "0   86.008598                   0.0   0.0  \n",
       "1   86.008598                   0.0   0.0  \n",
       "2   86.008598                   0.0  75.0  \n",
       "3  304.000000                   0.0  75.0  \n",
       "4  240.000000                   0.0  98.0  "
      ]
     },
     "execution_count": 30,
     "metadata": {},
     "output_type": "execute_result"
    }
   ],
   "source": [
    "# imputer will replace the NaN values with mean\n",
    "imputer = SimpleImputer(missing_values=np.nan, strategy='mean')\n",
    "\n",
    "# fit the imputer and transforming the numerical dataframe\n",
    "num_1 = pd.DataFrame(imputer.fit_transform(num),index=num.index,columns=num.columns)\n",
    "\n",
    "num_1.head()"
   ]
  },
  {
   "cell_type": "code",
   "execution_count": 31,
   "metadata": {},
   "outputs": [
    {
     "data": {
      "text/plain": [
       "lead_time                         0.0\n",
       "arrival_date_week_number          0.0\n",
       "arrival_date_day_of_month         0.0\n",
       "stays_in_week_nights              0.0\n",
       "previous_bookings_not_canceled    0.0\n",
       "booking_changes                   0.0\n",
       "agent                             0.0\n",
       "days_in_waiting_list              0.0\n",
       "adr                               0.0\n",
       "dtype: float64"
      ]
     },
     "execution_count": 31,
     "metadata": {},
     "output_type": "execute_result"
    }
   ],
   "source": [
    "# confirming that there are no missing values in num_1\n",
    "num_1.isnull().mean()"
   ]
  },
  {
   "cell_type": "markdown",
   "metadata": {},
   "source": [
    "There are no more missing values in the numerical dataframe!!"
   ]
  },
  {
   "cell_type": "markdown",
   "metadata": {},
   "source": [
    "#### Missing Value Imputation for categorical data"
   ]
  },
  {
   "cell_type": "code",
   "execution_count": 32,
   "metadata": {},
   "outputs": [],
   "source": [
    "# using SimpleImputer to fill all the missing values with the mode (most frequently occuring) value\n",
    "imputer=SimpleImputer(missing_values=np.nan, strategy='most_frequent')\n",
    "\n",
    "# fit the imputer an transform the categorical data frame\n",
    "char_1=pd.DataFrame(imputer.fit_transform(char),index=char.index,columns=char.columns)"
   ]
  },
  {
   "cell_type": "code",
   "execution_count": 33,
   "metadata": {},
   "outputs": [
    {
     "data": {
      "text/plain": [
       "hotel                          0.0\n",
       "arrival_month_year             0.0\n",
       "arrival_date_month             0.0\n",
       "meal                           0.0\n",
       "country                        0.0\n",
       "market_segment                 0.0\n",
       "distribution_channel           0.0\n",
       "reserved_room_type             0.0\n",
       "assigned_room_type             0.0\n",
       "deposit_type                   0.0\n",
       "customer_type                  0.0\n",
       "reservation_status             0.0\n",
       "reservation_status_date        0.0\n",
       "arrival_date_year              0.0\n",
       "stays_in_weekend_nights        0.0\n",
       "adults                         0.0\n",
       "children                       0.0\n",
       "babies                         0.0\n",
       "is_repeated_guest              0.0\n",
       "previous_cancellations         0.0\n",
       "required_car_parking_spaces    0.0\n",
       "total_of_special_requests      0.0\n",
       "dtype: float64"
      ]
     },
     "execution_count": 33,
     "metadata": {},
     "output_type": "execute_result"
    }
   ],
   "source": [
    "# verifying that the missing values have been imputed\n",
    "char_1.isnull().mean()"
   ]
  },
  {
   "cell_type": "markdown",
   "metadata": {},
   "source": [
    "## Feature Selection - Numerical Features"
   ]
  },
  {
   "cell_type": "markdown",
   "metadata": {},
   "source": [
    "### Part 1: Remove Features with Zero Variance"
   ]
  },
  {
   "cell_type": "code",
   "execution_count": 34,
   "metadata": {},
   "outputs": [],
   "source": [
    "# setting the variance threshold to 0 (indicating zero variance)\n",
    "varselector= VarianceThreshold(threshold=0)\n",
    "\n",
    "# fit the VarianceThreshold on the numerical data and transform it\n",
    "varselector.fit_transform(num_1)\n",
    "\n",
    "# get the columns with non zero variance and create a new dataframe\n",
    "cols = varselector.get_support(indices=True)\n",
    "\n",
    "num_2 = num_1.iloc[:,cols]"
   ]
  },
  {
   "cell_type": "code",
   "execution_count": 35,
   "metadata": {},
   "outputs": [
    {
     "data": {
      "text/plain": [
       "Index(['lead_time', 'arrival_date_week_number', 'arrival_date_day_of_month',\n",
       "       'stays_in_week_nights', 'previous_bookings_not_canceled',\n",
       "       'booking_changes', 'agent', 'days_in_waiting_list', 'adr'],\n",
       "      dtype='object')"
      ]
     },
     "execution_count": 35,
     "metadata": {},
     "output_type": "execute_result"
    }
   ],
   "source": [
    "num_2.columns"
   ]
  },
  {
   "cell_type": "markdown",
   "metadata": {},
   "source": [
    "### Part 2: Bivariate Analysis (Feature Discretization)"
   ]
  },
  {
   "cell_type": "code",
   "execution_count": 36,
   "metadata": {},
   "outputs": [
    {
     "data": {
      "text/html": [
       "<div>\n",
       "<style scoped>\n",
       "    .dataframe tbody tr th:only-of-type {\n",
       "        vertical-align: middle;\n",
       "    }\n",
       "\n",
       "    .dataframe tbody tr th {\n",
       "        vertical-align: top;\n",
       "    }\n",
       "\n",
       "    .dataframe thead th {\n",
       "        text-align: right;\n",
       "    }\n",
       "</style>\n",
       "<table border=\"1\" class=\"dataframe\">\n",
       "  <thead>\n",
       "    <tr style=\"text-align: right;\">\n",
       "      <th></th>\n",
       "      <th>lead_time_Rank</th>\n",
       "      <th>arrival_date_week_number_Rank</th>\n",
       "      <th>arrival_date_day_of_month_Rank</th>\n",
       "      <th>stays_in_week_nights_Rank</th>\n",
       "      <th>previous_bookings_not_canceled_Rank</th>\n",
       "      <th>booking_changes_Rank</th>\n",
       "      <th>agent_Rank</th>\n",
       "      <th>days_in_waiting_list_Rank</th>\n",
       "      <th>adr_Rank</th>\n",
       "    </tr>\n",
       "  </thead>\n",
       "  <tbody>\n",
       "    <tr>\n",
       "      <th>119385</th>\n",
       "      <td>2.0</td>\n",
       "      <td>6.0</td>\n",
       "      <td>9.0</td>\n",
       "      <td>5.0</td>\n",
       "      <td>0.0</td>\n",
       "      <td>0.0</td>\n",
       "      <td>5.0</td>\n",
       "      <td>0.0</td>\n",
       "      <td>5.0</td>\n",
       "    </tr>\n",
       "    <tr>\n",
       "      <th>119386</th>\n",
       "      <td>6.0</td>\n",
       "      <td>6.0</td>\n",
       "      <td>9.0</td>\n",
       "      <td>5.0</td>\n",
       "      <td>0.0</td>\n",
       "      <td>0.0</td>\n",
       "      <td>2.0</td>\n",
       "      <td>0.0</td>\n",
       "      <td>9.0</td>\n",
       "    </tr>\n",
       "    <tr>\n",
       "      <th>119387</th>\n",
       "      <td>3.0</td>\n",
       "      <td>6.0</td>\n",
       "      <td>9.0</td>\n",
       "      <td>5.0</td>\n",
       "      <td>0.0</td>\n",
       "      <td>0.0</td>\n",
       "      <td>2.0</td>\n",
       "      <td>0.0</td>\n",
       "      <td>8.0</td>\n",
       "    </tr>\n",
       "    <tr>\n",
       "      <th>119388</th>\n",
       "      <td>6.0</td>\n",
       "      <td>6.0</td>\n",
       "      <td>9.0</td>\n",
       "      <td>5.0</td>\n",
       "      <td>0.0</td>\n",
       "      <td>0.0</td>\n",
       "      <td>4.0</td>\n",
       "      <td>0.0</td>\n",
       "      <td>5.0</td>\n",
       "    </tr>\n",
       "    <tr>\n",
       "      <th>119389</th>\n",
       "      <td>8.0</td>\n",
       "      <td>6.0</td>\n",
       "      <td>9.0</td>\n",
       "      <td>5.0</td>\n",
       "      <td>0.0</td>\n",
       "      <td>0.0</td>\n",
       "      <td>2.0</td>\n",
       "      <td>0.0</td>\n",
       "      <td>8.0</td>\n",
       "    </tr>\n",
       "  </tbody>\n",
       "</table>\n",
       "</div>"
      ],
      "text/plain": [
       "        lead_time_Rank  arrival_date_week_number_Rank  \\\n",
       "119385             2.0                            6.0   \n",
       "119386             6.0                            6.0   \n",
       "119387             3.0                            6.0   \n",
       "119388             6.0                            6.0   \n",
       "119389             8.0                            6.0   \n",
       "\n",
       "        arrival_date_day_of_month_Rank  stays_in_week_nights_Rank  \\\n",
       "119385                             9.0                        5.0   \n",
       "119386                             9.0                        5.0   \n",
       "119387                             9.0                        5.0   \n",
       "119388                             9.0                        5.0   \n",
       "119389                             9.0                        5.0   \n",
       "\n",
       "        previous_bookings_not_canceled_Rank  booking_changes_Rank  agent_Rank  \\\n",
       "119385                                  0.0                   0.0         5.0   \n",
       "119386                                  0.0                   0.0         2.0   \n",
       "119387                                  0.0                   0.0         2.0   \n",
       "119388                                  0.0                   0.0         4.0   \n",
       "119389                                  0.0                   0.0         2.0   \n",
       "\n",
       "        days_in_waiting_list_Rank  adr_Rank  \n",
       "119385                        0.0       5.0  \n",
       "119386                        0.0       9.0  \n",
       "119387                        0.0       8.0  \n",
       "119388                        0.0       5.0  \n",
       "119389                        0.0       8.0  "
      ]
     },
     "execution_count": 36,
     "metadata": {},
     "output_type": "execute_result"
    }
   ],
   "source": [
    "# The numerical data is being grouped into bins. As there are 10 bins, each bin will have a decile (10%) of data. \n",
    "discrete = KBinsDiscretizer(n_bins=10,encode='ordinal',strategy='quantile')\n",
    "\n",
    "# storing the binned data into a new data frame with column name suffixed with Rank\n",
    "num_binned = pd.DataFrame(discrete.fit_transform(num_2), index=num_2.index, columns=num_2.columns).add_suffix('_Rank')\n",
    "num_binned.tail()"
   ]
  },
  {
   "cell_type": "code",
   "execution_count": 37,
   "metadata": {},
   "outputs": [
    {
     "data": {
      "image/png": "[encoded data removed]",
      "text/plain": [
       "<Figure size 432x288 with 1 Axes>"
      ]
     },
     "metadata": {
      "needs_background": "light"
     },
     "output_type": "display_data"
    },
    {
     "data": {
      "image/png": "[encoded data removed]",
      "text/plain": [
       "<Figure size 432x288 with 1 Axes>"
      ]
     },
     "metadata": {
      "needs_background": "light"
     },
     "output_type": "display_data"
    },
    {
     "data": {
      "image/png": "[encoded data removed]",
      "text/plain": [
       "<Figure size 432x288 with 1 Axes>"
      ]
     },
     "metadata": {
      "needs_background": "light"
     },
     "output_type": "display_data"
    },
    {
     "data": {
      "image/png": "[encoded data removed]",
      "text/plain": [
       "<Figure size 432x288 with 1 Axes>"
      ]
     },
     "metadata": {
      "needs_background": "light"
     },
     "output_type": "display_data"
    },
    {
     "data": {
      "image/png": "[encoded data removed]",
      "text/plain": [
       "<Figure size 432x288 with 1 Axes>"
      ]
     },
     "metadata": {
      "needs_background": "light"
     },
     "output_type": "display_data"
    },
    {
     "data": {
      "image/png": "[encoded data removed]",
      "text/plain": [
       "<Figure size 432x288 with 1 Axes>"
      ]
     },
     "metadata": {
      "needs_background": "light"
     },
     "output_type": "display_data"
    },
    {
     "data": {
      "image/png": "[encoded data removed]",
      "text/plain": [
       "<Figure size 432x288 with 1 Axes>"
      ]
     },
     "metadata": {
      "needs_background": "light"
     },
     "output_type": "display_data"
    },
    {
     "data": {
      "image/png": "[encoded data removed]",
      "text/plain": [
       "<Figure size 432x288 with 1 Axes>"
      ]
     },
     "metadata": {
      "needs_background": "light"
     },
     "output_type": "display_data"
    },
    {
     "data": {
      "image/png": "[encoded data removed]",
      "text/plain": [
       "<Figure size 432x288 with 1 Axes>"
      ]
     },
     "metadata": {
      "needs_background": "light"
     },
     "output_type": "display_data"
    }
   ],
   "source": [
    "# Plotting for bi-variate analysis\n",
    "# If the features show a slope such that some deciles are below the average event rate and some above, it indicates a strong slope\n",
    "# Conclusion:If the slope is strong, it indicates that the feature is a good predictor -  it can clearly discriminate an event from a non event\n",
    "\n",
    "\n",
    "# concatenating the Y with num_binned\n",
    "X_bin_combined = pd.concat([Y,num_binned],axis=1,join='inner')\n",
    "\n",
    "X_bin_combined['is_canceled'].mean()\n",
    "# plotting the bivariate graph for each numerical feature\n",
    "from numpy import mean\n",
    "for col in (num_binned.columns):    \n",
    "    plt.figure()\n",
    "    #sns.lineplot(x=col, y=X_bin_combined['is_canceled'].mean(), data=X_bin_combined,color='red')\n",
    "    sns.barplot(x=col, y=\"is_canceled\", data=X_bin_combined, estimator=mean )\n",
    "plt.show()"
   ]
  },
  {
   "cell_type": "markdown",
   "metadata": {},
   "source": [
    " - The feature 'previous_bookings_not_canceled' has been binned in a single rank. This indicates that there may not been a distinct difference between the values for this feature\n",
    " - Similarly, all the values for 'days_in_waiting_list' have fallen in a single rank\n",
    " - 'booking_changes' also have only 2 ranks\n",
    "\n",
    " - The descriptive statistics of these features need to be checked again and then we can convert these columns to indicators (with values 0 and 1) if needed"
   ]
  },
  {
   "cell_type": "code",
   "execution_count": 38,
   "metadata": {},
   "outputs": [],
   "source": [
    "num_2['day_wait_ind']=np.where(num_2['days_in_waiting_list']>0,1,0)\n",
    "num_2['previous_bookings_not_canceled_ind']=np.where(num_2['previous_bookings_not_canceled']>0,1,0)\n",
    "num_2['booking_changes_ind']=np.where(num_2['booking_changes']>0,1,0)"
   ]
  },
  {
   "cell_type": "code",
   "execution_count": 39,
   "metadata": {},
   "outputs": [],
   "source": [
    "# list of features which are not good predictors of the event\n",
    "num_varlist=['adr','arrival_date_day_of_month','arrival_date_week_number','days_in_waiting_list','previous_bookings_not_canceled',\n",
    "            'booking_changes']\n",
    "num_2=num_2.drop(num_varlist,axis=1)"
   ]
  },
  {
   "cell_type": "code",
   "execution_count": 40,
   "metadata": {},
   "outputs": [
    {
     "data": {
      "text/plain": [
       "lead_time                             float64\n",
       "stays_in_week_nights                  float64\n",
       "agent                                 float64\n",
       "day_wait_ind                            int32\n",
       "previous_bookings_not_canceled_ind      int32\n",
       "booking_changes_ind                     int32\n",
       "dtype: object"
      ]
     },
     "execution_count": 40,
     "metadata": {},
     "output_type": "execute_result"
    }
   ],
   "source": [
    "num_2.dtypes"
   ]
  },
  {
   "cell_type": "code",
   "execution_count": 41,
   "metadata": {},
   "outputs": [
    {
     "data": {
      "text/plain": [
       "(119390, 6)"
      ]
     },
     "execution_count": 41,
     "metadata": {},
     "output_type": "execute_result"
    }
   ],
   "source": [
    "num_2.shape"
   ]
  },
  {
   "cell_type": "markdown",
   "metadata": {},
   "source": [
    "### Part 3: Select K-Best features"
   ]
  },
  {
   "cell_type": "code",
   "execution_count": 42,
   "metadata": {},
   "outputs": [],
   "source": [
    "# Selecting 4 best numerical featues for our model\n",
    "selector = SelectKBest(chi2,k=4)\n",
    "\n",
    "# fitting and transform\n",
    "selector = SelectKBest(chi2, k=4)\n",
    "selector.fit_transform(num_2, Y)\n",
    "\n",
    "# getting the 4 best features\n",
    "cols = selector.get_support(indices=True)\n",
    "\n",
    "# creating a new data frame with selected best numerical features\n",
    "select_features_df_num = num_2.iloc[:,cols]"
   ]
  },
  {
   "cell_type": "markdown",
   "metadata": {},
   "source": [
    "## Feature Selection - Categorical Features"
   ]
  },
  {
   "cell_type": "code",
   "execution_count": 43,
   "metadata": {},
   "outputs": [],
   "source": [
    "# Merging the categorical features and target variable for Bivariate Analysis\n",
    "X_char_merged =pd.concat([Y,char], axis=1, join='inner')"
   ]
  },
  {
   "cell_type": "markdown",
   "metadata": {},
   "source": [
    "### Part-1: Bi Variate Analysis"
   ]
  },
  {
   "cell_type": "code",
   "execution_count": 44,
   "metadata": {},
   "outputs": [
    {
     "data": {
      "image/png": "[encoded data removed]",
      "text/plain": [
       "<Figure size 432x288 with 1 Axes>"
      ]
     },
     "metadata": {
      "needs_background": "light"
     },
     "output_type": "display_data"
    },
    {
     "data": {
      "image/png": "[encoded data removed]",
      "text/plain": [
       "<Figure size 432x288 with 1 Axes>"
      ]
     },
     "metadata": {
      "needs_background": "light"
     },
     "output_type": "display_data"
    },
    {
     "data": {
      "image/png": "[encoded data removed]",
      "text/plain": [
       "<Figure size 432x288 with 1 Axes>"
      ]
     },
     "metadata": {
      "needs_background": "light"
     },
     "output_type": "display_data"
    },
    {
     "data": {
      "image/png": "[encoded data removed]",
      "text/plain": [
       "<Figure size 432x288 with 1 Axes>"
      ]
     },
     "metadata": {
      "needs_background": "light"
     },
     "output_type": "display_data"
    },
    {
     "data": {
      "image/png": "[encoded data removed]",
      "text/plain": [
       "<Figure size 432x288 with 1 Axes>"
      ]
     },
     "metadata": {
      "needs_background": "light"
     },
     "output_type": "display_data"
    },
    {
     "data": {
      "image/png": "[encoded data removed]",
      "text/plain": [
       "<Figure size 432x288 with 1 Axes>"
      ]
     },
     "metadata": {
      "needs_background": "light"
     },
     "output_type": "display_data"
    },
    {
     "data": {
      "image/png": "[encoded data removed]",
      "text/plain": [
       "<Figure size 432x288 with 1 Axes>"
      ]
     },
     "metadata": {
      "needs_background": "light"
     },
     "output_type": "display_data"
    },
    {
     "data": {
      "image/png": "[encoded data removed]",
      "text/plain": [
       "<Figure size 432x288 with 1 Axes>"
      ]
     },
     "metadata": {
      "needs_background": "light"
     },
     "output_type": "display_data"
    },
    {
     "data": {
      "image/png": "[encoded data removed]",
      "text/plain": [
       "<Figure size 432x288 with 1 Axes>"
      ]
     },
     "metadata": {
      "needs_background": "light"
     },
     "output_type": "display_data"
    },
    {
     "data": {
      "image/png": "[encoded data removed]",
      "text/plain": [
       "<Figure size 432x288 with 1 Axes>"
      ]
     },
     "metadata": {
      "needs_background": "light"
     },
     "output_type": "display_data"
    },
    {
     "data": {
      "image/png": "[encoded data removed]",
      "text/plain": [
       "<Figure size 432x288 with 1 Axes>"
      ]
     },
     "metadata": {
      "needs_background": "light"
     },
     "output_type": "display_data"
    },
    {
     "data": {
      "image/png": "[encoded data removed]",
      "text/plain": [
       "<Figure size 432x288 with 1 Axes>"
      ]
     },
     "metadata": {
      "needs_background": "light"
     },
     "output_type": "display_data"
    },
    {
     "data": {
      "image/png": "[encoded data removed]",
      "text/plain": [
       "<Figure size 432x288 with 1 Axes>"
      ]
     },
     "metadata": {
      "needs_background": "light"
     },
     "output_type": "display_data"
    },
    {
     "data": {
      "image/png": "[encoded data removed]",
      "text/plain": [
       "<Figure size 432x288 with 1 Axes>"
      ]
     },
     "metadata": {
      "needs_background": "light"
     },
     "output_type": "display_data"
    },
    {
     "data": {
      "image/png": "[encoded data removed]",
      "text/plain": [
       "<Figure size 432x288 with 1 Axes>"
      ]
     },
     "metadata": {
      "needs_background": "light"
     },
     "output_type": "display_data"
    },
    {
     "data": {
      "image/png": "[encoded data removed]",
      "text/plain": [
       "<Figure size 432x288 with 1 Axes>"
      ]
     },
     "metadata": {
      "needs_background": "light"
     },
     "output_type": "display_data"
    },
    {
     "data": {
      "image/png": "[encoded data removed]",
      "text/plain": [
       "<Figure size 432x288 with 1 Axes>"
      ]
     },
     "metadata": {
      "needs_background": "light"
     },
     "output_type": "display_data"
    },
    {
     "data": {
      "image/png": "[encoded data removed]",
      "text/plain": [
       "<Figure size 432x288 with 1 Axes>"
      ]
     },
     "metadata": {
      "needs_background": "light"
     },
     "output_type": "display_data"
    },
    {
     "data": {
      "image/png": "[encoded data removed]",
      "text/plain": [
       "<Figure size 432x288 with 1 Axes>"
      ]
     },
     "metadata": {
      "needs_background": "light"
     },
     "output_type": "display_data"
    },
    {
     "data": {
      "image/png": "[encoded data removed]",
      "text/plain": [
       "<Figure size 432x288 with 1 Axes>"
      ]
     },
     "metadata": {
      "needs_background": "light"
     },
     "output_type": "display_data"
    },
    {
     "data": {
      "image/png": "[encoded data removed]",
      "text/plain": [
       "<Figure size 432x288 with 1 Axes>"
      ]
     },
     "metadata": {
      "needs_background": "light"
     },
     "output_type": "display_data"
    },
    {
     "data": {
      "image/png": "[encoded data removed]",
      "text/plain": [
       "<Figure size 432x288 with 1 Axes>"
      ]
     },
     "metadata": {
      "needs_background": "light"
     },
     "output_type": "display_data"
    }
   ],
   "source": [
    "for col in char:\n",
    "    plt.figure()\n",
    "    sns.barplot(x=col, y=\"is_canceled\",data = X_char_merged, estimator=mean )\n",
    "plt.show()    "
   ]
  },
  {
   "cell_type": "code",
   "execution_count": 45,
   "metadata": {},
   "outputs": [],
   "source": [
    "# dropping fetures which do not seem to be good predictors\n",
    "charlist=['arrival_date_month','country','reserved_room_type','assigned_room_type','reservation_status','reservation_status_date','arrival_date_year']\n",
    "char_1=char_1.drop(charlist,axis=1)"
   ]
  },
  {
   "cell_type": "code",
   "execution_count": 46,
   "metadata": {},
   "outputs": [
    {
     "data": {
      "text/plain": [
       "(119390, 107)"
      ]
     },
     "execution_count": 46,
     "metadata": {},
     "output_type": "execute_result"
    }
   ],
   "source": [
    "# converting the categorical variables into indicatos/numerical variables\n",
    "X_char_dum = pd.get_dummies(char_1, drop_first = True) # there will be n-1 levels\n",
    "X_char_dum.shape"
   ]
  },
  {
   "cell_type": "markdown",
   "metadata": {},
   "source": [
    "### Part-2 : Selecting K-Best"
   ]
  },
  {
   "cell_type": "code",
   "execution_count": 47,
   "metadata": {},
   "outputs": [],
   "source": [
    "# choosing the 100 best features\n",
    "selector = SelectKBest(chi2, k=100)\n",
    "selector.fit_transform(X_char_dum, Y)\n",
    "\n",
    "# fetching the 100 best featues\n",
    "cols = selector.get_support(indices=True)\n",
    "# creating a new dataframe with the 100 best features\n",
    "select_features_df_char = X_char_dum.iloc[:,cols]"
   ]
  },
  {
   "cell_type": "markdown",
   "metadata": {},
   "source": [
    "## Model Development"
   ]
  },
  {
   "cell_type": "markdown",
   "metadata": {},
   "source": [
    "### Creating the master training dataset "
   ]
  },
  {
   "cell_type": "code",
   "execution_count": 48,
   "metadata": {},
   "outputs": [],
   "source": [
    "# creating the master training datset by combining the selected numerical features and categorical features\n",
    "X_all=pd.concat([select_features_df_char,select_features_df_num],axis=1,join=\"inner\")"
   ]
  },
  {
   "cell_type": "markdown",
   "metadata": {},
   "source": [
    "### Train Test Split"
   ]
  },
  {
   "cell_type": "code",
   "execution_count": 49,
   "metadata": {},
   "outputs": [],
   "source": [
    "# Splitting the data into Train and Test Split\n",
    "# The ratio of train: test is 70:30\n",
    "X_train, X_test, y_train, y_test=train_test_split(X_all, Y, test_size=0.3, random_state=20)"
   ]
  },
  {
   "cell_type": "code",
   "execution_count": 50,
   "metadata": {},
   "outputs": [
    {
     "name": "stdout",
     "output_type": "stream",
     "text": [
      "Shape of Training Data (83573, 104)\n",
      "Shape of Testing Data (35817, 104)\n",
      "Cancellation Rate in Training Data is_canceled    0.370443\n",
      "dtype: float64\n",
      "Cancellation Rate in Testing Data is_canceled    0.370355\n",
      "dtype: float64\n"
     ]
    }
   ],
   "source": [
    "print(\"Shape of Training Data\",X_train.shape)\n",
    "print(\"Shape of Testing Data\",X_test.shape)\n",
    "print(\"Cancellation Rate in Training Data\",y_train.mean())\n",
    "print(\"Cancellation Rate in Testing Data\",y_test.mean())"
   ]
  },
  {
   "cell_type": "markdown",
   "metadata": {},
   "source": [
    "In the above split, the cancellation rate for training and testing set is approximately the same (approx 37%). This indicates a good split"
   ]
  },
  {
   "cell_type": "code",
   "execution_count": 51,
   "metadata": {},
   "outputs": [],
   "source": [
    "# Non linearity has been observed in the feature relationships. So Trees can be used for model building\n",
    "# There are few options to consider among tree methods\n",
    "# Decision Tree - White Box method with completely explainable set of rules\n",
    "# Random Forest  - Ensemble Methods with Bagging\n",
    "# GBM/XGBoost - Ensemble Methods with Boosting"
   ]
  },
  {
   "cell_type": "code",
   "execution_count": 52,
   "metadata": {},
   "outputs": [],
   "source": [
    "# Building a Decision Tree Model\n",
    "dtree = DecisionTreeClassifier(criterion='gini',random_state=20)"
   ]
  },
  {
   "cell_type": "code",
   "execution_count": 53,
   "metadata": {},
   "outputs": [
    {
     "name": "stdout",
     "output_type": "stream",
     "text": [
      "Best Parameters using grid search: \n",
      " {'max_depth': 7, 'min_samples_split': 140}\n"
     ]
    }
   ],
   "source": [
    "# Using GridSearchCV to find the best parameters for DecisionTree\n",
    "np.random.seed(44)\n",
    "param_dist = {'max_depth': [3, 5, 6, 7], 'min_samples_split': [140,280,420,560,700] }\n",
    "tree_grid = GridSearchCV(dtree, cv = 10, param_grid=param_dist,n_jobs = 3)\n",
    "tree_grid.fit(X_train,y_train) \n",
    "print('Best Parameters using grid search: \\n', tree_grid.best_params_)"
   ]
  },
  {
   "cell_type": "code",
   "execution_count": 54,
   "metadata": {},
   "outputs": [
    {
     "data": {
      "text/plain": [
       "DecisionTreeClassifier(max_depth=7, min_samples_split=140, random_state=20)"
      ]
     },
     "execution_count": 54,
     "metadata": {},
     "output_type": "execute_result"
    }
   ],
   "source": [
    "# Fitting the Decision Tree Classifier with the parameters returned by Grid Search CV\n",
    "dtree=DecisionTreeClassifier(criterion='gini', random_state=20,max_depth=7, min_samples_split=140)\n",
    "dtree.fit(X_train,y_train)"
   ]
  },
  {
   "cell_type": "code",
   "execution_count": 55,
   "metadata": {},
   "outputs": [
    {
     "data": {
      "text/plain": [
       "RandomForestClassifier(max_depth=7, min_samples_split=140, random_state=20)"
      ]
     },
     "execution_count": 55,
     "metadata": {},
     "output_type": "execute_result"
    }
   ],
   "source": [
    "# Building a Random Forest Model with same paramteres as that of Decision Tree Classifier\n",
    "rf=RandomForestClassifier(criterion='gini',random_state=20,max_depth=7,min_samples_split=140)\n",
    "rf.fit(X_train,y_train)"
   ]
  },
  {
   "cell_type": "code",
   "execution_count": 56,
   "metadata": {},
   "outputs": [
    {
     "data": {
      "text/plain": [
       "GradientBoostingClassifier(criterion='mse', max_depth=7, min_samples_split=140,\n",
       "                           random_state=20)"
      ]
     },
     "execution_count": 56,
     "metadata": {},
     "output_type": "execute_result"
    }
   ],
   "source": [
    "# Building a Gradient Boosting Model with same paramteres as that of Decision Tree Classifier\n",
    "gbm=GradientBoostingClassifier(criterion='mse',random_state=20,max_depth=7,min_samples_split=140)\n",
    "gbm.fit(X_train,y_train)"
   ]
  },
  {
   "cell_type": "code",
   "execution_count": 57,
   "metadata": {},
   "outputs": [],
   "source": [
    "# Model Evaluation\n",
    "\n",
    "y_pred_tree=dtree.predict(X_test)\n",
    "y_pred_rf=rf.predict(X_test)\n",
    "y_pred_gbm=gbm.predict(X_test)"
   ]
  },
  {
   "cell_type": "code",
   "execution_count": 58,
   "metadata": {},
   "outputs": [
    {
     "name": "stdout",
     "output_type": "stream",
     "text": [
      "Accuracy: 0.7844878130496692\n",
      "Precision 0.7297051027170312\n",
      "Recall 0.6640784018092725\n",
      "f1_score 0.6953467261317441\n"
     ]
    }
   ],
   "source": [
    "# Evaluating the predictions of the Decision Tree Classifier\n",
    "print(\"Accuracy:\",metrics.accuracy_score(y_test, y_pred_tree))\n",
    "print(\"Precision\",metrics.precision_score(y_test,y_pred_tree))\n",
    "print(\"Recall\",metrics.recall_score(y_test,y_pred_tree))\n",
    "print(\"f1_score\",metrics.f1_score(y_test,y_pred_tree))"
   ]
  },
  {
   "cell_type": "code",
   "execution_count": 59,
   "metadata": {},
   "outputs": [
    {
     "data": {
      "text/plain": [
       "<sklearn.metrics._plot.confusion_matrix.ConfusionMatrixDisplay at 0x279cf6d3d60>"
      ]
     },
     "execution_count": 59,
     "metadata": {},
     "output_type": "execute_result"
    },
    {
     "data": {
      "image/png": "[encoded data removed]",
      "text/plain": [
       "<Figure size 432x288 with 2 Axes>"
      ]
     },
     "metadata": {
      "needs_background": "light"
     },
     "output_type": "display_data"
    }
   ],
   "source": [
    "# Plotting the confusion matrix\n",
    "metrics.plot_confusion_matrix(dtree,X_all,Y)"
   ]
  },
  {
   "cell_type": "code",
   "execution_count": 60,
   "metadata": {},
   "outputs": [
    {
     "name": "stdout",
     "output_type": "stream",
     "text": [
      "Accuracy: 0.7684898232682804\n",
      "Precision 0.9979971960745043\n",
      "Recall 0.37565020731247645\n",
      "f1_score 0.5458429181728558\n"
     ]
    }
   ],
   "source": [
    "# Evaluating the Random Forest Classifier\n",
    "print(\"Accuracy:\",metrics.accuracy_score(y_test, y_pred_rf))\n",
    "print(\"Precision\",metrics.precision_score(y_test,y_pred_rf))\n",
    "print(\"Recall\",metrics.recall_score(y_test,y_pred_rf))\n",
    "print(\"f1_score\",metrics.f1_score(y_test,y_pred_rf))"
   ]
  },
  {
   "cell_type": "code",
   "execution_count": 61,
   "metadata": {},
   "outputs": [
    {
     "data": {
      "text/plain": [
       "<sklearn.metrics._plot.confusion_matrix.ConfusionMatrixDisplay at 0x279dd511f10>"
      ]
     },
     "execution_count": 61,
     "metadata": {},
     "output_type": "execute_result"
    },
    {
     "data": {
      "image/png": "[encoded data removed]",
      "text/plain": [
       "<Figure size 432x288 with 2 Axes>"
      ]
     },
     "metadata": {
      "needs_background": "light"
     },
     "output_type": "display_data"
    }
   ],
   "source": [
    "# plotting the confusion matrix\n",
    "metrics.plot_confusion_matrix(rf,X_all,Y)"
   ]
  },
  {
   "cell_type": "code",
   "execution_count": 62,
   "metadata": {},
   "outputs": [
    {
     "name": "stdout",
     "output_type": "stream",
     "text": [
      "Accuracy: 0.8379819638719044\n",
      "Precision 0.8577867280398926\n",
      "Recall 0.6743309460987561\n",
      "f1_score 0.7550753387076351\n"
     ]
    }
   ],
   "source": [
    "# Evaluating the GBM\n",
    "print(\"Accuracy:\",metrics.accuracy_score(y_test, y_pred_gbm))\n",
    "print(\"Precision\",metrics.precision_score(y_test,y_pred_gbm))\n",
    "print(\"Recall\",metrics.recall_score(y_test,y_pred_gbm))\n",
    "print(\"f1_score\",metrics.f1_score(y_test,y_pred_gbm))"
   ]
  },
  {
   "cell_type": "code",
   "execution_count": 63,
   "metadata": {},
   "outputs": [
    {
     "data": {
      "text/plain": [
       "<sklearn.metrics._plot.confusion_matrix.ConfusionMatrixDisplay at 0x279dd48f040>"
      ]
     },
     "execution_count": 63,
     "metadata": {},
     "output_type": "execute_result"
    },
    {
     "data": {
      "image/png": "[encoded data removed]",
      "text/plain": [
       "<Figure size 432x288 with 2 Axes>"
      ]
     },
     "metadata": {
      "needs_background": "light"
     },
     "output_type": "display_data"
    }
   ],
   "source": [
    "# Confusion matrix\n",
    "\n",
    "metrics.plot_confusion_matrix(gbm,X_all,Y)"
   ]
  },
  {
   "cell_type": "markdown",
   "metadata": {},
   "source": [
    "### Decile Method of measuring the KS Statistic"
   ]
  },
  {
   "cell_type": "markdown",
   "metadata": {},
   "source": [
    " - Kolmogorov-Smirnov (KS) Statistics is one of the most important metrics used for validating predictive models. \n",
    " - KS statistic compares the cumulative distribution of events and non-events and KS is where there is a maximum difference between the two distributions.\n",
    " - It helps us to understand how well our predictive model is able to discriminate between events and non-events"
   ]
  },
  {
   "cell_type": "markdown",
   "metadata": {},
   "source": [
    "Decile Method to measure KS Statistic\n",
    "\n",
    "\n",
    " - This method is the most common way to calculate KS statistic for validating binary predictive model.\n",
    " - There are two variables for calculating KS. One is dependent variable which should be binary. Second one is predicted probability score which is generated from statistical model.\n",
    " - Create deciles based on predicted probability columns which means dividing probability into 10 parts. First decile should contain highest probability score. \n",
    " - Calculate the cumulative % of events and non-events in each decile and then compute the difference between these two cumulative distribution. This is the KS score\n",
    " - KS is where the difference is maximum\n",
    " - If KS is in top 3 decile and score/value of KS is above 40, it is considered a good predictive model.\n",
    " - At the same time it is important to validate the model by checking other performance metrics as well to confirm that model is not suffering from overfitting problem"
   ]
  },
  {
   "cell_type": "code",
   "execution_count": 64,
   "metadata": {},
   "outputs": [],
   "source": [
    "# fetching the predicted probabilities of event \n",
    "y_pred_prob = gbm.predict_proba(X_all)[:, 1]\n",
    "\n",
    "# creating a new data frame with predicted probabilities of event\n",
    "df['y_pred_P']=pd.DataFrame(y_pred_prob)\n",
    "\n",
    "# converting the predicted probabilites into deciles\n",
    "df['P_Rank_dtree']=pd.qcut(df['y_pred_P'].rank(method='first').values,10,duplicates='drop').codes+1\n",
    "\n",
    "# grouping the actual results\n",
    "rank_df_actuals=df.groupby('P_Rank_dtree')['is_canceled'].agg(['count','mean'])"
   ]
  },
  {
   "cell_type": "code",
   "execution_count": 65,
   "metadata": {},
   "outputs": [
    {
     "data": {
      "text/html": [
       "<div>\n",
       "<style scoped>\n",
       "    .dataframe tbody tr th:only-of-type {\n",
       "        vertical-align: middle;\n",
       "    }\n",
       "\n",
       "    .dataframe tbody tr th {\n",
       "        vertical-align: top;\n",
       "    }\n",
       "\n",
       "    .dataframe thead th {\n",
       "        text-align: right;\n",
       "    }\n",
       "</style>\n",
       "<table border=\"1\" class=\"dataframe\">\n",
       "  <thead>\n",
       "    <tr style=\"text-align: right;\">\n",
       "      <th></th>\n",
       "      <th>P_Rank_dtree</th>\n",
       "      <th>count</th>\n",
       "      <th>Actutal_event_rate</th>\n",
       "      <th>Predicted_event_rate</th>\n",
       "      <th>N_events</th>\n",
       "      <th>cum_events</th>\n",
       "      <th>event_cap</th>\n",
       "      <th>cum_event_cap</th>\n",
       "      <th>N_non_events</th>\n",
       "      <th>cum_non_events</th>\n",
       "      <th>non_event_cap</th>\n",
       "      <th>cum_non_event_cap</th>\n",
       "      <th>KS</th>\n",
       "      <th>random_cap</th>\n",
       "      <th>cum_random_cap</th>\n",
       "      <th>Decile</th>\n",
       "      <th>Lift_over_Avg</th>\n",
       "    </tr>\n",
       "  </thead>\n",
       "  <tbody>\n",
       "    <tr>\n",
       "      <th>0</th>\n",
       "      <td>10</td>\n",
       "      <td>11939</td>\n",
       "      <td>1.000000</td>\n",
       "      <td>0.994503</td>\n",
       "      <td>11939.0</td>\n",
       "      <td>11939.0</td>\n",
       "      <td>0.269967</td>\n",
       "      <td>0.269967</td>\n",
       "      <td>0.0</td>\n",
       "      <td>0.0</td>\n",
       "      <td>0.000000</td>\n",
       "      <td>0.000000</td>\n",
       "      <td>0.2700</td>\n",
       "      <td>0.1</td>\n",
       "      <td>0.1</td>\n",
       "      <td>1</td>\n",
       "      <td>2.699665</td>\n",
       "    </tr>\n",
       "    <tr>\n",
       "      <th>1</th>\n",
       "      <td>9</td>\n",
       "      <td>11939</td>\n",
       "      <td>0.896641</td>\n",
       "      <td>0.851683</td>\n",
       "      <td>10705.0</td>\n",
       "      <td>22644.0</td>\n",
       "      <td>0.242063</td>\n",
       "      <td>0.512030</td>\n",
       "      <td>1234.0</td>\n",
       "      <td>1234.0</td>\n",
       "      <td>0.016417</td>\n",
       "      <td>0.016417</td>\n",
       "      <td>0.4956</td>\n",
       "      <td>0.1</td>\n",
       "      <td>0.2</td>\n",
       "      <td>2</td>\n",
       "      <td>2.420631</td>\n",
       "    </tr>\n",
       "    <tr>\n",
       "      <th>2</th>\n",
       "      <td>8</td>\n",
       "      <td>11939</td>\n",
       "      <td>0.655583</td>\n",
       "      <td>0.606775</td>\n",
       "      <td>7827.0</td>\n",
       "      <td>30471.0</td>\n",
       "      <td>0.176985</td>\n",
       "      <td>0.689015</td>\n",
       "      <td>4112.0</td>\n",
       "      <td>5346.0</td>\n",
       "      <td>0.054706</td>\n",
       "      <td>0.071123</td>\n",
       "      <td>0.6179</td>\n",
       "      <td>0.1</td>\n",
       "      <td>0.3</td>\n",
       "      <td>3</td>\n",
       "      <td>1.769853</td>\n",
       "    </tr>\n",
       "    <tr>\n",
       "      <th>3</th>\n",
       "      <td>7</td>\n",
       "      <td>11939</td>\n",
       "      <td>0.418712</td>\n",
       "      <td>0.400558</td>\n",
       "      <td>4999.0</td>\n",
       "      <td>35470.0</td>\n",
       "      <td>0.113038</td>\n",
       "      <td>0.802053</td>\n",
       "      <td>6940.0</td>\n",
       "      <td>12286.0</td>\n",
       "      <td>0.092329</td>\n",
       "      <td>0.163452</td>\n",
       "      <td>0.6386</td>\n",
       "      <td>0.1</td>\n",
       "      <td>0.4</td>\n",
       "      <td>4</td>\n",
       "      <td>1.130382</td>\n",
       "    </tr>\n",
       "    <tr>\n",
       "      <th>4</th>\n",
       "      <td>6</td>\n",
       "      <td>11939</td>\n",
       "      <td>0.292822</td>\n",
       "      <td>0.301669</td>\n",
       "      <td>3496.0</td>\n",
       "      <td>38966.0</td>\n",
       "      <td>0.079052</td>\n",
       "      <td>0.881105</td>\n",
       "      <td>8443.0</td>\n",
       "      <td>20729.0</td>\n",
       "      <td>0.112325</td>\n",
       "      <td>0.275776</td>\n",
       "      <td>0.6053</td>\n",
       "      <td>0.1</td>\n",
       "      <td>0.5</td>\n",
       "      <td>5</td>\n",
       "      <td>0.790521</td>\n",
       "    </tr>\n",
       "    <tr>\n",
       "      <th>5</th>\n",
       "      <td>5</td>\n",
       "      <td>11939</td>\n",
       "      <td>0.194991</td>\n",
       "      <td>0.217743</td>\n",
       "      <td>2328.0</td>\n",
       "      <td>41294.0</td>\n",
       "      <td>0.052641</td>\n",
       "      <td>0.933746</td>\n",
       "      <td>9611.0</td>\n",
       "      <td>30340.0</td>\n",
       "      <td>0.127864</td>\n",
       "      <td>0.403640</td>\n",
       "      <td>0.5301</td>\n",
       "      <td>0.1</td>\n",
       "      <td>0.6</td>\n",
       "      <td>6</td>\n",
       "      <td>0.526411</td>\n",
       "    </tr>\n",
       "    <tr>\n",
       "      <th>6</th>\n",
       "      <td>4</td>\n",
       "      <td>11939</td>\n",
       "      <td>0.127230</td>\n",
       "      <td>0.151770</td>\n",
       "      <td>1519.0</td>\n",
       "      <td>42813.0</td>\n",
       "      <td>0.034348</td>\n",
       "      <td>0.968094</td>\n",
       "      <td>10420.0</td>\n",
       "      <td>40760.0</td>\n",
       "      <td>0.138627</td>\n",
       "      <td>0.542266</td>\n",
       "      <td>0.4258</td>\n",
       "      <td>0.1</td>\n",
       "      <td>0.7</td>\n",
       "      <td>7</td>\n",
       "      <td>0.343479</td>\n",
       "    </tr>\n",
       "    <tr>\n",
       "      <th>7</th>\n",
       "      <td>3</td>\n",
       "      <td>11939</td>\n",
       "      <td>0.076723</td>\n",
       "      <td>0.103709</td>\n",
       "      <td>916.0</td>\n",
       "      <td>43729.0</td>\n",
       "      <td>0.020713</td>\n",
       "      <td>0.988807</td>\n",
       "      <td>11023.0</td>\n",
       "      <td>51783.0</td>\n",
       "      <td>0.146649</td>\n",
       "      <td>0.688915</td>\n",
       "      <td>0.2999</td>\n",
       "      <td>0.1</td>\n",
       "      <td>0.8</td>\n",
       "      <td>8</td>\n",
       "      <td>0.207127</td>\n",
       "    </tr>\n",
       "    <tr>\n",
       "      <th>8</th>\n",
       "      <td>2</td>\n",
       "      <td>11939</td>\n",
       "      <td>0.037440</td>\n",
       "      <td>0.065701</td>\n",
       "      <td>447.0</td>\n",
       "      <td>44176.0</td>\n",
       "      <td>0.010108</td>\n",
       "      <td>0.998915</td>\n",
       "      <td>11492.0</td>\n",
       "      <td>63275.0</td>\n",
       "      <td>0.152888</td>\n",
       "      <td>0.841803</td>\n",
       "      <td>0.1571</td>\n",
       "      <td>0.1</td>\n",
       "      <td>0.9</td>\n",
       "      <td>9</td>\n",
       "      <td>0.101076</td>\n",
       "    </tr>\n",
       "    <tr>\n",
       "      <th>9</th>\n",
       "      <td>1</td>\n",
       "      <td>11939</td>\n",
       "      <td>0.004020</td>\n",
       "      <td>0.017274</td>\n",
       "      <td>48.0</td>\n",
       "      <td>44224.0</td>\n",
       "      <td>0.001085</td>\n",
       "      <td>1.000000</td>\n",
       "      <td>11891.0</td>\n",
       "      <td>75166.0</td>\n",
       "      <td>0.158197</td>\n",
       "      <td>1.000000</td>\n",
       "      <td>0.0000</td>\n",
       "      <td>0.1</td>\n",
       "      <td>1.0</td>\n",
       "      <td>10</td>\n",
       "      <td>0.010854</td>\n",
       "    </tr>\n",
       "  </tbody>\n",
       "</table>\n",
       "</div>"
      ],
      "text/plain": [
       "   P_Rank_dtree  count  Actutal_event_rate  Predicted_event_rate  N_events  \\\n",
       "0            10  11939            1.000000              0.994503   11939.0   \n",
       "1             9  11939            0.896641              0.851683   10705.0   \n",
       "2             8  11939            0.655583              0.606775    7827.0   \n",
       "3             7  11939            0.418712              0.400558    4999.0   \n",
       "4             6  11939            0.292822              0.301669    3496.0   \n",
       "5             5  11939            0.194991              0.217743    2328.0   \n",
       "6             4  11939            0.127230              0.151770    1519.0   \n",
       "7             3  11939            0.076723              0.103709     916.0   \n",
       "8             2  11939            0.037440              0.065701     447.0   \n",
       "9             1  11939            0.004020              0.017274      48.0   \n",
       "\n",
       "   cum_events  event_cap  cum_event_cap  N_non_events  cum_non_events  \\\n",
       "0     11939.0   0.269967       0.269967           0.0             0.0   \n",
       "1     22644.0   0.242063       0.512030        1234.0          1234.0   \n",
       "2     30471.0   0.176985       0.689015        4112.0          5346.0   \n",
       "3     35470.0   0.113038       0.802053        6940.0         12286.0   \n",
       "4     38966.0   0.079052       0.881105        8443.0         20729.0   \n",
       "5     41294.0   0.052641       0.933746        9611.0         30340.0   \n",
       "6     42813.0   0.034348       0.968094       10420.0         40760.0   \n",
       "7     43729.0   0.020713       0.988807       11023.0         51783.0   \n",
       "8     44176.0   0.010108       0.998915       11492.0         63275.0   \n",
       "9     44224.0   0.001085       1.000000       11891.0         75166.0   \n",
       "\n",
       "   non_event_cap  cum_non_event_cap      KS  random_cap  cum_random_cap  \\\n",
       "0       0.000000           0.000000  0.2700         0.1             0.1   \n",
       "1       0.016417           0.016417  0.4956         0.1             0.2   \n",
       "2       0.054706           0.071123  0.6179         0.1             0.3   \n",
       "3       0.092329           0.163452  0.6386         0.1             0.4   \n",
       "4       0.112325           0.275776  0.6053         0.1             0.5   \n",
       "5       0.127864           0.403640  0.5301         0.1             0.6   \n",
       "6       0.138627           0.542266  0.4258         0.1             0.7   \n",
       "7       0.146649           0.688915  0.2999         0.1             0.8   \n",
       "8       0.152888           0.841803  0.1571         0.1             0.9   \n",
       "9       0.158197           1.000000  0.0000         0.1             1.0   \n",
       "\n",
       "   Decile  Lift_over_Avg  \n",
       "0       1       2.699665  \n",
       "1       2       2.420631  \n",
       "2       3       1.769853  \n",
       "3       4       1.130382  \n",
       "4       5       0.790521  \n",
       "5       6       0.526411  \n",
       "6       7       0.343479  \n",
       "7       8       0.207127  \n",
       "8       9       0.101076  \n",
       "9      10       0.010854  "
      ]
     },
     "execution_count": 65,
     "metadata": {},
     "output_type": "execute_result"
    }
   ],
   "source": [
    "# grouping the predicted results\n",
    "rank_df_predicted=df.groupby('P_Rank_dtree')['y_pred_P'].agg(['mean'])\n",
    "rank_df_actuals=pd.DataFrame(rank_df_actuals)\n",
    "\n",
    "# renaming the column mean to Actual Event Rate\n",
    "rank_df_actuals.rename(columns={'mean':'Actutal_event_rate'},inplace=True)\n",
    "\n",
    "rank_df_predicted=pd.DataFrame(rank_df_predicted)\n",
    "# renaming the column mean to Predicted Event Rate\n",
    "rank_df_predicted.rename(columns={'mean':'Predicted_event_rate'},inplace=True)\n",
    "\n",
    "# concatenating the actual and predicted dataframes\n",
    "rank_df=pd.concat([rank_df_actuals,rank_df_predicted],axis=1,join=\"inner\")\n",
    "\n",
    "# sorting the ranks in descending order\n",
    "sorted_rank_df=rank_df.sort_values(by='P_Rank_dtree',ascending=False)\n",
    "\n",
    "# calculating the total number of events\n",
    "sorted_rank_df['N_events']=rank_df['count']*rank_df['Actutal_event_rate']\n",
    "\n",
    "# computing the cumulative sum of events\n",
    "sorted_rank_df['cum_events']=sorted_rank_df['N_events'].cumsum()\n",
    "\n",
    "sorted_rank_df['event_cap']=sorted_rank_df['N_events']/max(sorted_rank_df['N_events'].cumsum())\n",
    "\n",
    "# cumulative event rate\n",
    "sorted_rank_df['cum_event_cap']=sorted_rank_df['event_cap'].cumsum()\n",
    "\n",
    "# computing the cumulative sum of non-events\n",
    "sorted_rank_df['N_non_events']=sorted_rank_df['count']-sorted_rank_df['N_events']\n",
    "sorted_rank_df['cum_non_events']=sorted_rank_df['N_non_events'].cumsum()\n",
    "sorted_rank_df['non_event_cap']=sorted_rank_df['N_non_events']/max(sorted_rank_df['N_non_events'].cumsum())\n",
    "# cumulative non_event rate\n",
    "sorted_rank_df['cum_non_event_cap']=sorted_rank_df['non_event_cap'].cumsum()\n",
    "\n",
    "# difference between the cumulative event rate and cumulative non event rate\n",
    "sorted_rank_df['KS']=round((sorted_rank_df['cum_event_cap']-sorted_rank_df['cum_non_event_cap']),4)\n",
    "\n",
    "sorted_rank_df['random_cap']=sorted_rank_df['count']/max(sorted_rank_df['count'].cumsum())\n",
    "sorted_rank_df['cum_random_cap']=sorted_rank_df['random_cap'].cumsum()\n",
    "sorted_reindexed=sorted_rank_df.reset_index()\n",
    "sorted_reindexed['Decile']=sorted_reindexed.index+1\n",
    "\n",
    "# Calculating the lift\n",
    "sorted_reindexed['Lift_over_Avg']=sorted_reindexed['Actutal_event_rate']/(max(sorted_reindexed['N_events'].cumsum())/max(sorted_reindexed['count'].cumsum()))\n",
    "sorted_reindexed"
   ]
  },
  {
   "cell_type": "markdown",
   "metadata": {},
   "source": [
    "### Plotting the Gains Chart, Lift over average chart"
   ]
  },
  {
   "cell_type": "code",
   "execution_count": 66,
   "metadata": {},
   "outputs": [
    {
     "data": {
      "text/plain": [
       "<AxesSubplot:xlabel='Decile', ylabel='cum_non_event_cap'>"
      ]
     },
     "execution_count": 66,
     "metadata": {},
     "output_type": "execute_result"
    },
    {
     "data": {
      "image/png": "[encoded data removed]",
      "text/plain": [
       "<Figure size 1080x360 with 4 Axes>"
      ]
     },
     "metadata": {
      "needs_background": "light"
     },
     "output_type": "display_data"
    }
   ],
   "source": [
    "fig, axes = plt.subplots(1, 4, sharex=True, figsize=(15,5))\n",
    "fig.suptitle('Effectiveness of Deciles based on Model Probabilities')\n",
    "axes[0].set_title('Rank Ordering of Actual Event Rate')\n",
    "axes[1].set_title('Lift over Mean Event Rate')\n",
    "axes[2].set_title('Gains Chart')\n",
    "sns.lineplot(ax=axes[0],  x=\"Decile\", y=\"Actutal_event_rate\", data=sorted_reindexed,color='red')\n",
    "sns.barplot(ax=axes[1],  x=\"Decile\", y=\"Lift_over_Avg\", data=sorted_reindexed,color='green')\n",
    "sns.lineplot(ax=axes[2],  x=\"Decile\", y=\"cum_event_cap\", data=sorted_reindexed,color='blue')\n",
    "sns.lineplot(ax=axes[3],  x=\"Decile\", y=\"cum_non_event_cap\", data=sorted_reindexed,color='black')"
   ]
  },
  {
   "cell_type": "markdown",
   "metadata": {},
   "source": [
    "## Machine Learning Strategy"
   ]
  },
  {
   "cell_type": "markdown",
   "metadata": {},
   "source": [
    "A- Audience\n",
    "P - Prioritization\n",
    "T - Treatment"
   ]
  },
  {
   "cell_type": "markdown",
   "metadata": {},
   "source": [
    "### Audience"
   ]
  },
  {
   "cell_type": "code",
   "execution_count": 67,
   "metadata": {},
   "outputs": [
    {
     "data": {
      "text/plain": [
       "Bottom7    83573\n",
       "Top3       35817\n",
       "Name: Predicted_cancel_Rank, dtype: int64"
      ]
     },
     "execution_count": 67,
     "metadata": {},
     "output_type": "execute_result"
    }
   ],
   "source": [
    "# Classifying the hotel bookings as Bottom 7 and Top 3\n",
    "# Top3 are higly likely to cancel the booking\n",
    "# Bottom 7 are less likely to make a cancellation\n",
    "df['Predicted_cancel_Rank']=np.where(df['P_Rank_dtree']<8,\"Bottom7\",\"Top3\")\n",
    "df.Predicted_cancel_Rank.value_counts()"
   ]
  },
  {
   "cell_type": "code",
   "execution_count": 71,
   "metadata": {},
   "outputs": [],
   "source": [
    "# we are interested in only the top 3 groups\n",
    "df_top3=df.loc[df['Predicted_cancel_Rank']=='Top3',:]"
   ]
  },
  {
   "cell_type": "markdown",
   "metadata": {},
   "source": [
    "### Prioritization"
   ]
  },
  {
   "cell_type": "markdown",
   "metadata": {},
   "source": [
    "- <b>lead_time</b> is chosen as the <b>Engagement metric</b>\n",
    "\n",
    "- <b>ADR</b> is chosen as the <b>Value Metric</b>"
   ]
  },
  {
   "cell_type": "code",
   "execution_count": 70,
   "metadata": {},
   "outputs": [
    {
     "data": {
      "text/plain": [
       "Bottom7    83573\n",
       "Top3       35817\n",
       "Name: Predicted_cancel_Rank, dtype: int64"
      ]
     },
     "execution_count": 70,
     "metadata": {},
     "output_type": "execute_result"
    }
   ],
   "source": [
    "# converting the data into deciles based on lead time\n",
    "df['lead_time_RANK']=pd.qcut(df['lead_time'].rank(method='first').values,10,duplicates='drop').codes+1\n",
    "df.Predicted_cancel_Rank.value_counts()"
   ]
  },
  {
   "cell_type": "markdown",
   "metadata": {},
   "source": [
    "Out of the total, 83573 observations are in Bottom 7 and 35817 are in the top 3 groups that are likely to cancel"
   ]
  },
  {
   "cell_type": "code",
   "execution_count": 72,
   "metadata": {},
   "outputs": [
    {
     "data": {
      "text/html": [
       "<div>\n",
       "<style scoped>\n",
       "    .dataframe tbody tr th:only-of-type {\n",
       "        vertical-align: middle;\n",
       "    }\n",
       "\n",
       "    .dataframe tbody tr th {\n",
       "        vertical-align: top;\n",
       "    }\n",
       "\n",
       "    .dataframe thead th {\n",
       "        text-align: right;\n",
       "    }\n",
       "</style>\n",
       "<table border=\"1\" class=\"dataframe\">\n",
       "  <thead>\n",
       "    <tr style=\"text-align: right;\">\n",
       "      <th></th>\n",
       "      <th>min</th>\n",
       "      <th>mean</th>\n",
       "      <th>max</th>\n",
       "    </tr>\n",
       "    <tr>\n",
       "      <th>lead_time_RANK</th>\n",
       "      <th></th>\n",
       "      <th></th>\n",
       "      <th></th>\n",
       "    </tr>\n",
       "  </thead>\n",
       "  <tbody>\n",
       "    <tr>\n",
       "      <th>1</th>\n",
       "      <td>0</td>\n",
       "      <td>0.652735</td>\n",
       "      <td>3</td>\n",
       "    </tr>\n",
       "    <tr>\n",
       "      <th>2</th>\n",
       "      <td>3</td>\n",
       "      <td>6.449703</td>\n",
       "      <td>11</td>\n",
       "    </tr>\n",
       "    <tr>\n",
       "      <th>3</th>\n",
       "      <td>11</td>\n",
       "      <td>18.337465</td>\n",
       "      <td>26</td>\n",
       "    </tr>\n",
       "    <tr>\n",
       "      <th>4</th>\n",
       "      <td>26</td>\n",
       "      <td>35.099757</td>\n",
       "      <td>45</td>\n",
       "    </tr>\n",
       "    <tr>\n",
       "      <th>5</th>\n",
       "      <td>45</td>\n",
       "      <td>56.680291</td>\n",
       "      <td>69</td>\n",
       "    </tr>\n",
       "    <tr>\n",
       "      <th>6</th>\n",
       "      <td>69</td>\n",
       "      <td>83.823603</td>\n",
       "      <td>99</td>\n",
       "    </tr>\n",
       "    <tr>\n",
       "      <th>7</th>\n",
       "      <td>99</td>\n",
       "      <td>117.566044</td>\n",
       "      <td>138</td>\n",
       "    </tr>\n",
       "    <tr>\n",
       "      <th>8</th>\n",
       "      <td>138</td>\n",
       "      <td>160.550130</td>\n",
       "      <td>184</td>\n",
       "    </tr>\n",
       "    <tr>\n",
       "      <th>9</th>\n",
       "      <td>184</td>\n",
       "      <td>219.433286</td>\n",
       "      <td>265</td>\n",
       "    </tr>\n",
       "    <tr>\n",
       "      <th>10</th>\n",
       "      <td>265</td>\n",
       "      <td>341.521149</td>\n",
       "      <td>737</td>\n",
       "    </tr>\n",
       "  </tbody>\n",
       "</table>\n",
       "</div>"
      ],
      "text/plain": [
       "                min        mean  max\n",
       "lead_time_RANK                      \n",
       "1                 0    0.652735    3\n",
       "2                 3    6.449703   11\n",
       "3                11   18.337465   26\n",
       "4                26   35.099757   45\n",
       "5                45   56.680291   69\n",
       "6                69   83.823603   99\n",
       "7                99  117.566044  138\n",
       "8               138  160.550130  184\n",
       "9               184  219.433286  265\n",
       "10              265  341.521149  737"
      ]
     },
     "execution_count": 72,
     "metadata": {},
     "output_type": "execute_result"
    }
   ],
   "source": [
    "# computing the min_lead_time, average_lead_time and max_lead_time for each decile\n",
    "df.groupby('lead_time_RANK')['lead_time'].agg(['min','mean','max'])"
   ]
  },
  {
   "cell_type": "code",
   "execution_count": 73,
   "metadata": {},
   "outputs": [
    {
     "data": {
      "text/plain": [
       "104.01141636652986"
      ]
     },
     "execution_count": 73,
     "metadata": {},
     "output_type": "execute_result"
    }
   ],
   "source": [
    "# The average lead time of the total population is:\n",
    "df.lead_time.mean()"
   ]
  },
  {
   "cell_type": "code",
   "execution_count": 74,
   "metadata": {},
   "outputs": [
    {
     "data": {
      "text/plain": [
       "Low Lead Time     71634\n",
       "High Lead Time    47756\n",
       "Name: lead_time_segment, dtype: int64"
      ]
     },
     "execution_count": 74,
     "metadata": {},
     "output_type": "execute_result"
    }
   ],
   "source": [
    "# In the above deciles, rank >= 7 have their average lead time > the average lead_time of entire population\n",
    "df['lead_time_segment']=np.where(df['lead_time_RANK']>=7,\"High Lead Time\",\"Low Lead Time\")\n",
    "df.lead_time_segment.value_counts()"
   ]
  },
  {
   "cell_type": "code",
   "execution_count": 75,
   "metadata": {},
   "outputs": [],
   "source": [
    "# grouping the data into deciles based on ADR\n",
    "df['adr_RANK']=pd.qcut(df['adr'].rank(method='first').values,10,duplicates='drop').codes+1"
   ]
  },
  {
   "cell_type": "code",
   "execution_count": 76,
   "metadata": {},
   "outputs": [
    {
     "data": {
      "text/html": [
       "<div>\n",
       "<style scoped>\n",
       "    .dataframe tbody tr th:only-of-type {\n",
       "        vertical-align: middle;\n",
       "    }\n",
       "\n",
       "    .dataframe tbody tr th {\n",
       "        vertical-align: top;\n",
       "    }\n",
       "\n",
       "    .dataframe thead th {\n",
       "        text-align: right;\n",
       "    }\n",
       "</style>\n",
       "<table border=\"1\" class=\"dataframe\">\n",
       "  <thead>\n",
       "    <tr style=\"text-align: right;\">\n",
       "      <th></th>\n",
       "      <th>min</th>\n",
       "      <th>mean</th>\n",
       "      <th>max</th>\n",
       "    </tr>\n",
       "    <tr>\n",
       "      <th>adr_RANK</th>\n",
       "      <th></th>\n",
       "      <th></th>\n",
       "      <th></th>\n",
       "    </tr>\n",
       "  </thead>\n",
       "  <tbody>\n",
       "    <tr>\n",
       "      <th>1</th>\n",
       "      <td>-6.38</td>\n",
       "      <td>32.638938</td>\n",
       "      <td>50.00</td>\n",
       "    </tr>\n",
       "    <tr>\n",
       "      <th>2</th>\n",
       "      <td>50.00</td>\n",
       "      <td>59.250104</td>\n",
       "      <td>64.00</td>\n",
       "    </tr>\n",
       "    <tr>\n",
       "      <th>3</th>\n",
       "      <td>64.00</td>\n",
       "      <td>69.332909</td>\n",
       "      <td>75.00</td>\n",
       "    </tr>\n",
       "    <tr>\n",
       "      <th>4</th>\n",
       "      <td>75.00</td>\n",
       "      <td>79.526233</td>\n",
       "      <td>85.00</td>\n",
       "    </tr>\n",
       "    <tr>\n",
       "      <th>5</th>\n",
       "      <td>85.00</td>\n",
       "      <td>89.482808</td>\n",
       "      <td>94.56</td>\n",
       "    </tr>\n",
       "    <tr>\n",
       "      <th>6</th>\n",
       "      <td>94.59</td>\n",
       "      <td>99.285965</td>\n",
       "      <td>105.00</td>\n",
       "    </tr>\n",
       "    <tr>\n",
       "      <th>7</th>\n",
       "      <td>105.00</td>\n",
       "      <td>111.376652</td>\n",
       "      <td>118.15</td>\n",
       "    </tr>\n",
       "    <tr>\n",
       "      <th>8</th>\n",
       "      <td>118.15</td>\n",
       "      <td>125.793015</td>\n",
       "      <td>135.00</td>\n",
       "    </tr>\n",
       "    <tr>\n",
       "      <th>9</th>\n",
       "      <td>135.00</td>\n",
       "      <td>147.667347</td>\n",
       "      <td>164.00</td>\n",
       "    </tr>\n",
       "    <tr>\n",
       "      <th>10</th>\n",
       "      <td>164.00</td>\n",
       "      <td>203.957244</td>\n",
       "      <td>5400.00</td>\n",
       "    </tr>\n",
       "  </tbody>\n",
       "</table>\n",
       "</div>"
      ],
      "text/plain": [
       "             min        mean      max\n",
       "adr_RANK                             \n",
       "1          -6.38   32.638938    50.00\n",
       "2          50.00   59.250104    64.00\n",
       "3          64.00   69.332909    75.00\n",
       "4          75.00   79.526233    85.00\n",
       "5          85.00   89.482808    94.56\n",
       "6          94.59   99.285965   105.00\n",
       "7         105.00  111.376652   118.15\n",
       "8         118.15  125.793015   135.00\n",
       "9         135.00  147.667347   164.00\n",
       "10        164.00  203.957244  5400.00"
      ]
     },
     "execution_count": 76,
     "metadata": {},
     "output_type": "execute_result"
    }
   ],
   "source": [
    "# computing the min, average(ADR) and max(ADR) for each decile\n",
    "df.groupby('adr_RANK')['adr'].agg(['min','mean','max'])"
   ]
  },
  {
   "cell_type": "code",
   "execution_count": 77,
   "metadata": {},
   "outputs": [
    {
     "data": {
      "text/plain": [
       "101.83112153446453"
      ]
     },
     "execution_count": 77,
     "metadata": {},
     "output_type": "execute_result"
    }
   ],
   "source": [
    "# The average ADR \n",
    "df.adr.mean()"
   ]
  },
  {
   "cell_type": "code",
   "execution_count": 78,
   "metadata": {},
   "outputs": [
    {
     "data": {
      "text/plain": [
       "Low ADR     71634\n",
       "High ADR    47756\n",
       "Name: adr_segment, dtype: int64"
      ]
     },
     "execution_count": 78,
     "metadata": {},
     "output_type": "execute_result"
    }
   ],
   "source": [
    "# Classifying the data as High ADR and Low ADR\n",
    "# from the ADR deciles rank >=7 have higher mean ADR\n",
    "df['adr_segment']=np.where(df['adr_RANK']>=7,\"High ADR\",\"Low ADR\")\n",
    "df.adr_segment.value_counts()"
   ]
  },
  {
   "cell_type": "code",
   "execution_count": 79,
   "metadata": {},
   "outputs": [
    {
     "data": {
      "text/html": [
       "<div>\n",
       "<style scoped>\n",
       "    .dataframe tbody tr th:only-of-type {\n",
       "        vertical-align: middle;\n",
       "    }\n",
       "\n",
       "    .dataframe tbody tr th {\n",
       "        vertical-align: top;\n",
       "    }\n",
       "\n",
       "    .dataframe thead th {\n",
       "        text-align: right;\n",
       "    }\n",
       "</style>\n",
       "<table border=\"1\" class=\"dataframe\">\n",
       "  <thead>\n",
       "    <tr style=\"text-align: right;\">\n",
       "      <th>lead_time_segment</th>\n",
       "      <th>High Lead Time</th>\n",
       "      <th>Low Lead Time</th>\n",
       "    </tr>\n",
       "    <tr>\n",
       "      <th>adr_segment</th>\n",
       "      <th></th>\n",
       "      <th></th>\n",
       "    </tr>\n",
       "  </thead>\n",
       "  <tbody>\n",
       "    <tr>\n",
       "      <th>High ADR</th>\n",
       "      <td>141.203654</td>\n",
       "      <td>151.099370</td>\n",
       "    </tr>\n",
       "    <tr>\n",
       "      <th>Low ADR</th>\n",
       "      <td>74.960245</td>\n",
       "      <td>69.300239</td>\n",
       "    </tr>\n",
       "  </tbody>\n",
       "</table>\n",
       "</div>"
      ],
      "text/plain": [
       "lead_time_segment  High Lead Time  Low Lead Time\n",
       "adr_segment                                     \n",
       "High ADR               141.203654     151.099370\n",
       "Low ADR                 74.960245      69.300239"
      ]
     },
     "execution_count": 79,
     "metadata": {},
     "output_type": "execute_result"
    }
   ],
   "source": [
    "pd.crosstab(index=df['adr_segment'], columns=df['lead_time_segment'],values=df['adr'],aggfunc='mean')"
   ]
  },
  {
   "cell_type": "code",
   "execution_count": 85,
   "metadata": {},
   "outputs": [
    {
     "data": {
      "text/html": [
       "<div>\n",
       "<style scoped>\n",
       "    .dataframe tbody tr th:only-of-type {\n",
       "        vertical-align: middle;\n",
       "    }\n",
       "\n",
       "    .dataframe tbody tr th {\n",
       "        vertical-align: top;\n",
       "    }\n",
       "\n",
       "    .dataframe thead th {\n",
       "        text-align: right;\n",
       "    }\n",
       "</style>\n",
       "<table border=\"1\" class=\"dataframe\">\n",
       "  <thead>\n",
       "    <tr style=\"text-align: right;\">\n",
       "      <th>lead_time_segment</th>\n",
       "      <th>High Lead Time</th>\n",
       "      <th>Low Lead Time</th>\n",
       "    </tr>\n",
       "    <tr>\n",
       "      <th>adr_segment</th>\n",
       "      <th></th>\n",
       "      <th></th>\n",
       "    </tr>\n",
       "  </thead>\n",
       "  <tbody>\n",
       "    <tr>\n",
       "      <th>High ADR</th>\n",
       "      <td>0.482231</td>\n",
       "      <td>0.320037</td>\n",
       "    </tr>\n",
       "    <tr>\n",
       "      <th>Low ADR</th>\n",
       "      <td>0.528775</td>\n",
       "      <td>0.247969</td>\n",
       "    </tr>\n",
       "  </tbody>\n",
       "</table>\n",
       "</div>"
      ],
      "text/plain": [
       "lead_time_segment  High Lead Time  Low Lead Time\n",
       "adr_segment                                     \n",
       "High ADR                 0.482231       0.320037\n",
       "Low ADR                  0.528775       0.247969"
      ]
     },
     "execution_count": 85,
     "metadata": {},
     "output_type": "execute_result"
    }
   ],
   "source": [
    "pd.crosstab(index=df['adr_segment'], columns=df['lead_time_segment'],values=df['is_canceled'],aggfunc='mean')"
   ]
  },
  {
   "cell_type": "markdown",
   "metadata": {},
   "source": [
    "The High Lead Time, Low ADR customers have highest priority. \n",
    "The Second Highest Prority is for High Lead Time, High ADR and \n",
    "The 3rd highes priority is for Low Lead time and High ADR"
   ]
  },
  {
   "cell_type": "markdown",
   "metadata": {},
   "source": [
    "### Treatment"
   ]
  },
  {
   "cell_type": "markdown",
   "metadata": {},
   "source": [
    "Analyzing how the services are used by the customers in top 3 groups of highly likely cancellations"
   ]
  },
  {
   "cell_type": "code",
   "execution_count": 82,
   "metadata": {},
   "outputs": [],
   "source": [
    "service_list=['stays_in_weekend_nights','total_of_special_requests','reserved_room_type']"
   ]
  },
  {
   "cell_type": "code",
   "execution_count": 83,
   "metadata": {},
   "outputs": [],
   "source": [
    "df_top3_services=df_top3[service_list]"
   ]
  },
  {
   "cell_type": "code",
   "execution_count": 84,
   "metadata": {},
   "outputs": [
    {
     "data": {
      "image/png": "[encoded data removed]",
      "text/plain": [
       "<Figure size 432x288 with 1 Axes>"
      ]
     },
     "metadata": {
      "needs_background": "light"
     },
     "output_type": "display_data"
    },
    {
     "data": {
      "image/png": "[encoded data removed]",
      "text/plain": [
       "<Figure size 432x288 with 1 Axes>"
      ]
     },
     "metadata": {
      "needs_background": "light"
     },
     "output_type": "display_data"
    },
    {
     "data": {
      "image/png": "[encoded data removed]",
      "text/plain": [
       "<Figure size 432x288 with 1 Axes>"
      ]
     },
     "metadata": {
      "needs_background": "light"
     },
     "output_type": "display_data"
    }
   ],
   "source": [
    "for col in (df_top3_services.columns):\n",
    "    plt.figure()\n",
    "    sns.countplot(x=col,data=df_top3_services)\n",
    "plt.show()"
   ]
  },
  {
   "cell_type": "code",
   "execution_count": null,
   "metadata": {},
   "outputs": [],
   "source": [
    "- Most cancellations occur in booking cases where there is no stay in weekend_nights. If some offers are made to ensure that these people opt for weekend stay, then cancellations will reduce\n",
    "- Maximum number of cancellations occur in cases where the people do not opt for special requests. If these people are given special requests, cancellations will reduce\n",
    "- Cancellations are more in cases where requests are made for Room type A or Room type D. If an upgrade is offered, cancellations can reduce. "
   ]
  },
  {
   "cell_type": "code",
   "execution_count": null,
   "metadata": {},
   "outputs": [],
   "source": []
  }
 ],
 "metadata": {
  "kernelspec": {
   "display_name": "Python 3",
   "language": "python",
   "name": "python3"
  },
  "language_info": {
   "codemirror_mode": {
    "name": "ipython",
    "version": 3
   },
   "file_extension": ".py",
   "mimetype": "text/x-python",
   "name": "python",
   "nbconvert_exporter": "python",
   "pygments_lexer": "ipython3",
   "version": "3.8.5"
  }
 },
 "nbformat": 4,
 "nbformat_minor": 4
}
